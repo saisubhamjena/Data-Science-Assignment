{
 "cells": [
  {
   "cell_type": "code",
   "execution_count": 2,
   "id": "c83b0ff1-feaa-4a0c-b829-40817a846e97",
   "metadata": {},
   "outputs": [],
   "source": [
    "#Q1. What is the Probability density function?\n",
    "\"\"\"\n",
    "probability density function is used to define the random variable's probability coming within a distinct range of values, as opposed to\n",
    "taking on any one value.\n",
    "\"\"\""
   ]
  },
  {
   "cell_type": "code",
   "execution_count": null,
   "id": "ad589416-aa7d-42d4-9510-0970b7ecbd02",
   "metadata": {},
   "outputs": [],
   "source": [
    "#Q2. What are the types of Probability distribution?\n",
    "\"\"\"\n",
    "There are two types of probability distributions:\n",
    "1.Discrete probability distributions.\n",
    "2.Continuous probability distributions.\n",
    "\"\"\""
   ]
  },
  {
   "cell_type": "code",
   "execution_count": 3,
   "id": "31483136-4304-43ca-8f3a-5c881e62fce0",
   "metadata": {},
   "outputs": [
    {
     "data": {
      "text/plain": [
       "0.13114657203397997"
      ]
     },
     "execution_count": 3,
     "metadata": {},
     "output_type": "execute_result"
    }
   ],
   "source": [
    "#Q3 Write a Python function to calculate the probability density function of a normal distribution with given mean and standard deviation at a given point.\n",
    "\n",
    "import math\n",
    "\n",
    "def normal_pdf(x, mean, stdev):\n",
    "    \n",
    "    coefficient = 1 / (stdev * math.sqrt(2 * math.pi))\n",
    "    exponent = -((x - mean) ** 2) / (2 * (stdev ** 2))\n",
    "    \n",
    "    return coefficient * math.exp(exponent)\n",
    "\n",
    "normal_pdf(12,11.5,3)"
   ]
  },
  {
   "cell_type": "code",
   "execution_count": null,
   "id": "166be605-3b87-4cce-a16e-bf8704e62908",
   "metadata": {},
   "outputs": [],
   "source": [
    "#Q4. What are the properties of Binomial distribution? Give two examples of events where binomial distribution can be applied.\n",
    "\"\"\"\n",
    "Properties of binomial distribution are:\n",
    "1. It is used for discreet random variable.\n",
    "2. Here each individual experiment either takes the value 0 or 1.\n",
    "\n",
    "Ex: 1. Tossing of a coin [H,T]\n",
    "    2. Result of a exam [Pass, Fail]\n",
    "\"\"\""
   ]
  },
  {
   "cell_type": "code",
   "execution_count": 4,
   "id": "940d5167-ca58-49f3-b54c-eebde7693613",
   "metadata": {},
   "outputs": [
    {
     "data": {
      "image/png": "[encoded data removed]",
      "text/plain": [
       "<Figure size 640x480 with 1 Axes>"
      ]
     },
     "metadata": {},
     "output_type": "display_data"
    }
   ],
   "source": [
    "#Q5. Generate a random sample of size 1000 from a binomial distribution with probability of success 0.4 and plot a histogram of the results using matplotlib.\n",
    "\n",
    "import numpy as np\n",
    "import matplotlib.pyplot as plt\n",
    "\n",
    "n = 1000  \n",
    "p = 0.4    \n",
    "\n",
    "sample = np.random.binomial(n, p, size=1000)\n",
    "\n",
    "\n",
    "plt.hist(sample,bins=30)\n",
    "plt.show()\n"
   ]
  },
  {
   "cell_type": "code",
   "execution_count": 12,
   "id": "8294e19e-4f0f-403f-b641-96a4d7c595bb",
   "metadata": {},
   "outputs": [
    {
     "data": {
      "text/plain": [
       "0.2650259152973616"
      ]
     },
     "execution_count": 12,
     "metadata": {},
     "output_type": "execute_result"
    }
   ],
   "source": [
    "#Q6. Write a Python function to calculate the cumulative distribution function of a Poisson distribution with given mean at a given point.\n",
    "\n",
    "from scipy.stats import poisson\n",
    "\n",
    "def poisson_cdf(mean, point):\n",
    "    \n",
    "    return poisson.cdf(point, mu=mean)\n",
    "\n",
    "poisson_cdf(5,3)"
   ]
  },
  {
   "cell_type": "code",
   "execution_count": null,
   "id": "070e4a9f-9b69-461b-8f8f-6946f491fd2b",
   "metadata": {},
   "outputs": [],
   "source": [
    "#Q7. How Binomial distribution different from Poisson distribution?\n",
    "\"\"\"\n",
    "Binomial Distribution: It describes the number of success of n indipendent experiment,each asking a yes no question. \n",
    "                       Here the sample size is finite.\n",
    "\n",
    "Posson Distribution: It describe the number of events occuring in fixed interval of time.\n",
    "                    Here the sample size is infinite\n",
    "\"\"\""
   ]
  },
  {
   "cell_type": "code",
   "execution_count": 10,
   "id": "6cb93f59-b156-481d-b387-43497cdf7e6d",
   "metadata": {},
   "outputs": [
    {
     "data": {
      "text/plain": [
       "5.097"
      ]
     },
     "execution_count": 10,
     "metadata": {},
     "output_type": "execute_result"
    }
   ],
   "source": [
    "#Q8. Generate a random sample of size 1000 from a Poisson distribution with mean 5 and calculate the sample mean and variance.\n",
    "\n",
    "import numpy as np\n",
    "\n",
    "u=5\n",
    "\n",
    "sample=np.random.poisson(u,size=1000)\n",
    "\n",
    "np.mean(sample)"
   ]
  },
  {
   "cell_type": "code",
   "execution_count": 11,
   "id": "6fa22391-57d8-4ccc-baf4-4c9146aac2d3",
   "metadata": {},
   "outputs": [
    {
     "data": {
      "text/plain": [
       "5.215591000000001"
      ]
     },
     "execution_count": 11,
     "metadata": {},
     "output_type": "execute_result"
    }
   ],
   "source": [
    "np.var(sample)"
   ]
  },
  {
   "cell_type": "code",
   "execution_count": null,
   "id": "44766631-aff4-4ec5-a8c6-543c47678923",
   "metadata": {},
   "outputs": [],
   "source": [
    "#Q9. How mean and variance are related in Binomial distribution and Poisson distribution?\n",
    "\"\"\"\n",
    "Binomial distribution: mean =np\n",
    "                       Variance= q*mean\n",
    "\n",
    "Poisson distribution:The mean and the variance are the same, which is equal to the average number of successes that occur in the given\n",
    "                       interval of time.\n",
    "\"\"\""
   ]
  },
  {
   "cell_type": "code",
   "execution_count": null,
   "id": "015dc1e9-c60c-4b17-bb73-f78253dda805",
   "metadata": {},
   "outputs": [],
   "source": [
    "#Q10. In normal distribution with respect to mean position, where does the least frequent data appear?\n",
    "\"\"\"\n",
    "In normal distribution with respect to mean position,the least frequent data appear in the 3rd standard deviation.\n",
    "\"\"\"\n"
   ]
  }
 ],
 "metadata": {
  "kernelspec": {
   "display_name": "Python 3 (ipykernel)",
   "language": "python",
   "name": "python3"
  },
  "language_info": {
   "codemirror_mode": {
    "name": "ipython",
    "version": 3
   },
   "file_extension": ".py",
   "mimetype": "text/x-python",
   "name": "python",
   "nbconvert_exporter": "python",
   "pygments_lexer": "ipython3",
   "version": "3.10.8"
  }
 },
 "nbformat": 4,
 "nbformat_minor": 5
}
