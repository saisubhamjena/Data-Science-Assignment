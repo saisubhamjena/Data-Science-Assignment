{
 "cells": [
  {
   "cell_type": "code",
   "execution_count": null,
   "id": "c48b279c-d477-4012-8a6e-583a9ef6e658",
   "metadata": {},
   "outputs": [],
   "source": [
    "#Q1: Explain the following with an example:\n",
    "\"\"\"\n",
    "1. Artificial Intelligence: Smart application that can perform its own tasks without any human intervention.\n",
    "   For example, an AI-powered personal assistant like Apple's Siri or Amazon's Alexa can understand voice commands, interpret them.\n",
    "   \n",
    "2. Machine Learning: It is a subset of AI that involves the development of algorithms and statistical models that enable machines to improve their\n",
    "        performance on a specific task by learning from data without being explicitly programmed.\n",
    "   For example, an ML model can be trained on a dataset of images of dogs and cats, and it can learn to distinguish between the two by identifying \n",
    "        features that distinguish them, such as their ears, nose, and fur.\n",
    "   \n",
    "3. Deep Learning: It is a subset of ML that involves the development of neural networks with multiple layers that can learn to recognize patterns in \n",
    "        data by themselves. \n",
    "   For example, a DL model can be trained to recognize objects in images by analyzing millions of images and identifying patterns in the pixel values.\n",
    "\"\"\""
   ]
  },
  {
   "cell_type": "code",
   "execution_count": null,
   "id": "da589c78-99f6-4ec5-98cd-60f9ac0388b8",
   "metadata": {},
   "outputs": [],
   "source": [
    "#Q2: What is supervised learning? List some examples of supervised learning.\n",
    "\"\"\"\n",
    "Supervised learning is a machine learning technique that involves training a model on labeled data to predict or classify future data points. \n",
    "In supervised learning, the algorithm is provided with a set of input/output pairs (or features/labels) and tries to learn the relationship between \n",
    "them to make accurate predictions on unseen data.\n",
    "\n",
    "Some examples of supervised learning algorithms include:\n",
    "1.Regression algorithms: Linear regression, polynomial regression, logistic regression\n",
    "2.Decision tree algorithms: Classification and Regression Tree (CART), ID3, C4.5, Random Forest\n",
    "3.Support vector machine (SVM) algorithms: Linear SVM, Nonlinear SVM, Support Vector Regression (SVR)\n",
    "\"\"\""
   ]
  },
  {
   "cell_type": "code",
   "execution_count": null,
   "id": "f8f42478-3f1c-49bf-a4da-ac87f0ce4b52",
   "metadata": {},
   "outputs": [],
   "source": [
    "#Q3: What is unsupervised learning? List some examples of unsupervised learning.\n",
    "\"\"\"\n",
    "Unsupervised learning is a type of machine learning technique where the algorithm learns patterns and relationships from unlabelled data without \n",
    "any explicit guidance from a human or pre-defined targets. The goal of unsupervised learning is to discover hidden structures or patterns in the data.\n",
    "\n",
    "Some common examples of unsupervised learning include:\n",
    "1. Clustering: Grouping similar data points together based on their inherent properties, without any prior knowledge of the groups.\n",
    "2. Dimensionality Reduction: Reducing the number of features or variables in the data while retaining as much information as possible, by discovering \n",
    "       the most important patterns.\n",
    "3. Anomaly detection: Identifying outliers or anomalies in the data, which deviate significantly from the expected patterns.\n",
    "\"\"\""
   ]
  },
  {
   "cell_type": "code",
   "execution_count": null,
   "id": "dc5732f9-67ab-451c-b31f-e4cdc30dbb6d",
   "metadata": {},
   "outputs": [],
   "source": [
    "#Q4: What is the difference between AI, ML, DL, and DS?\n",
    "\"\"\"\n",
    "AI (Artificial Intelligence): AI refers to the development of intelligent machines that can perform tasks that usually require human intelligence, \n",
    "    such as visual perception, speech recognition, decision-making, and language translation. AI involves the development of algorithms, software, \n",
    "    and hardware that enable machines to learn from experience and improve their performance over time.\n",
    "\n",
    "ML (Machine Learning): ML is a subset of AI that focuses on the development of algorithms and statistical models that allow machines to learn from \n",
    "    data and make predictions or decisions without being explicitly programmed. ML algorithms can be trained on large datasets and can identify \n",
    "    patterns, classify data, and make predictions based on that data.\n",
    "\n",
    "DL (Deep Learning): DL is a subset of ML that uses deep neural networks to learn from data. These networks are inspired by the structure and function\n",
    "    of the human brain and are capable of processing vast amounts of data to learn and make predictions. DL is used in applications such as image \n",
    "    recognition, natural language processing, and speech recognition.\n",
    "\n",
    "DS (Data Science): DS is an interdisciplinary field that combines statistical and computational methods to extract insights and knowledge from data. \n",
    "    DS involves the collection, processing, analysis, visualization, and interpretation of data using various tools and techniques. DS can include all\n",
    "    of the above fields, as well as other related areas such as data mining, database management, and data engineering.\n",
    "\"\"\""
   ]
  },
  {
   "cell_type": "code",
   "execution_count": null,
   "id": "77cc52c6-2639-48b8-9369-6200cab76196",
   "metadata": {},
   "outputs": [],
   "source": [
    "#Q5: What are the main differences between supervised, unsupervised, and semi-supervised learning?\n",
    "\"\"\"\n",
    "Supervised Learning: In supervised learning, the algorithm is trained on a labeled dataset, where the desired output is already known. \n",
    "\n",
    "Unsupervised Learning: In unsupervised learning, the algorithm is trained on an unlabeled dataset, where the desired output is not known. \n",
    "\n",
    "Semi-supervised Learning: Semi-supervised learning is a combination of supervised and unsupervised learning.\n",
    "\"\"\""
   ]
  },
  {
   "cell_type": "code",
   "execution_count": null,
   "id": "53955b30-b92b-43d6-9c46-2d5801d4feb9",
   "metadata": {},
   "outputs": [],
   "source": [
    "#Q6: What is train, test and validation split? Explain the importance of each term.\n",
    "\"\"\"\n",
    "Training set: The training set is used to train the model on the given dataset, and the model tries to learn the patterns in the data. \n",
    "    It is the most important part of the dataset because the model tries to learn the patterns in the data, so it is essential to have a \n",
    "    representative training set to build an accurate model.\n",
    "\n",
    "Test set: The test set is used to evaluate the model's performance on unseen data. \n",
    "    It is important to have a representative test set to get an accurate estimate of the model's performance.\n",
    "\n",
    "Validation set: The validation set is used to fine-tune the model and to prevent overfitting. \n",
    "    It is important to have a representative validation set to select the best hyperparameters of the model and to compare the performance of \n",
    "    different models.\n",
    "\"\"\""
   ]
  },
  {
   "cell_type": "code",
   "execution_count": null,
   "id": "405bde01-12bc-4eae-9f33-6dd74b2788a0",
   "metadata": {},
   "outputs": [],
   "source": [
    "#Q7: How can unsupervised learning be used in anomaly detection?\n",
    "\"\"\"\n",
    "Unsupervised learning can be used in anomaly detection by training a model to identify patterns in the data and then using the model to identify \n",
    "instances that do not fit those patterns, which are considered anomalies.\n",
    "\n",
    "There are different approaches to unsupervised anomaly detection, but one common method is to use clustering algorithms to group similar instances \n",
    "together based on their features. Once the clusters are formed, instances that fall outside of the clusters or have significantly different feature \n",
    "values can be considered anomalies.\n",
    "\"\"\""
   ]
  },
  {
   "cell_type": "code",
   "execution_count": null,
   "id": "230eab07-5f7b-4cc6-9c00-f25bdcc7c3eb",
   "metadata": {},
   "outputs": [],
   "source": [
    "#Q8: List down some commonly used supervised learning algorithms and unsupervised learning algorithms.\n",
    "\"\"\"\n",
    "Supervised Learning algorithms:\n",
    "\n",
    "1. Linear Regression\n",
    "2. Logistic Regression\n",
    "3. Decision Tree\n",
    "4. Random Forest\n",
    "5. Support Vector Machines (SVM)\n",
    "6. Naive Bayes\n",
    "7. K-Nearest Neighbor (KNN)\n",
    "8. Neural Networks\n",
    "\n",
    "Unsupervised Learning algorithms:\n",
    "\n",
    "1. K-Means Clustering\n",
    "2. Hierarchical Clustering\n",
    "3. Principal Component Analysis (PCA)\n",
    "4. Singular Value Decomposition (SVD)\n",
    "5. Independent Component Analysis (ICA)\n",
    "6. t-distributed Stochastic Neighbor Embedding (t-SNE)\n",
    "7. Apriori Algorithm\n",
    "8. DBSCAN Clustering\n",
    "\"\"\""
   ]
  }
 ],
 "metadata": {
  "kernelspec": {
   "display_name": "Python 3 (ipykernel)",
   "language": "python",
   "name": "python3"
  },
  "language_info": {
   "codemirror_mode": {
    "name": "ipython",
    "version": 3
   },
   "file_extension": ".py",
   "mimetype": "text/x-python",
   "name": "python",
   "nbconvert_exporter": "python",
   "pygments_lexer": "ipython3",
   "version": "3.10.8"
  }
 },
 "nbformat": 4,
 "nbformat_minor": 5
}
