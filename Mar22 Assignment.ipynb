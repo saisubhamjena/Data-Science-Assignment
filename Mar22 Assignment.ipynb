{
 "cells": [
  {
   "cell_type": "code",
   "execution_count": 7,
   "id": "a3e36a79-7005-4eec-9aaa-6c3a369cf47f",
   "metadata": {},
   "outputs": [
    {
     "data": {
      "text/html": [
       "<div>\n",
       "<style scoped>\n",
       "    .dataframe tbody tr th:only-of-type {\n",
       "        vertical-align: middle;\n",
       "    }\n",
       "\n",
       "    .dataframe tbody tr th {\n",
       "        vertical-align: top;\n",
       "    }\n",
       "\n",
       "    .dataframe thead th {\n",
       "        text-align: right;\n",
       "    }\n",
       "</style>\n",
       "<table border=\"1\" class=\"dataframe\">\n",
       "  <thead>\n",
       "    <tr style=\"text-align: right;\">\n",
       "      <th></th>\n",
       "      <th>Hours Studied</th>\n",
       "      <th>Exam Score</th>\n",
       "    </tr>\n",
       "  </thead>\n",
       "  <tbody>\n",
       "    <tr>\n",
       "      <th>Hours Studied</th>\n",
       "      <td>1.00000</td>\n",
       "      <td>0.99133</td>\n",
       "    </tr>\n",
       "    <tr>\n",
       "      <th>Exam Score</th>\n",
       "      <td>0.99133</td>\n",
       "      <td>1.00000</td>\n",
       "    </tr>\n",
       "  </tbody>\n",
       "</table>\n",
       "</div>"
      ],
      "text/plain": [
       "               Hours Studied  Exam Score\n",
       "Hours Studied        1.00000     0.99133\n",
       "Exam Score           0.99133     1.00000"
      ]
     },
     "execution_count": 7,
     "metadata": {},
     "output_type": "execute_result"
    }
   ],
   "source": [
    "#Q1.Pearson correlation coefficient is a measure of the linear relationship between two variables. Suppose you have collected data on the amount of \n",
    "#   time students spend studying for an exam and their final exam scores. Calculate the Pearson correlation coefficient between these two variables.\n",
    "\n",
    "import pandas as pd\n",
    "from scipy.stats import pearsonr\n",
    "\n",
    "df = pd.DataFrame({\n",
    "    'Hours Studied': [5, 7, 3, 6, 8, 4, 9, 2, 7, 5],\n",
    "    'Exam Score': [78, 84, 65, 80, 90, 72, 92, 60, 85, 75]\n",
    "})\n",
    "\n",
    "df.corr(method='pearson')"
   ]
  },
  {
   "cell_type": "code",
   "execution_count": 28,
   "id": "241a5484-723e-4248-8ac6-ca2041997b61",
   "metadata": {},
   "outputs": [
    {
     "name": "stdout",
     "output_type": "stream",
     "text": [
      "Spearman's rank correlation: -0.06888237932715659\n"
     ]
    }
   ],
   "source": [
    "#Q2.Spearman's rank correlation is a measure of the monotonic relationship between two variables. Suppose you have collected data on the amount of \n",
    "#   sleep individuals get each night and their overall job satisfaction level on a scale of 1 to 10. Calculate the Spearman's rank correlation between\n",
    "#   these two variables and interpret the result.\n",
    "\n",
    "import numpy as np\n",
    "from scipy.stats import spearmanr\n",
    "\n",
    "np.random.seed(42)\n",
    "sleep =np.random.normal(loc=7, scale=1, size=100)\n",
    "job_satisfaction = np.random.randint(1,10,100)\n",
    "\n",
    "corr= spearmanr(sleep, job_satisfaction)[0]\n",
    "print(\"Spearman's rank correlation:\", corr)"
   ]
  },
  {
   "cell_type": "code",
   "execution_count": 26,
   "id": "5288b38c-76b3-4cb1-bacb-5c2161c60558",
   "metadata": {},
   "outputs": [
    {
     "name": "stdout",
     "output_type": "stream",
     "text": [
      "Pearson correlation coefficient:  -0.017369557668882925\n",
      "Spearman's rank correlation:  0.023097238895558224\n"
     ]
    }
   ],
   "source": [
    "#Q3. Suppose you are conducting a study to examine the relationship between the number of hours of exercise per week and body mass index (BMI) in a \n",
    "#    sample of adults. You collected data on both variables for 50 participants. Calculate the Pearson correlation coefficient and the Spearman's rank\n",
    "#    correlation between these two variables and compare the results.\n",
    "\n",
    "import numpy as np\n",
    "from scipy.stats import pearsonr, spearmanr\n",
    "\n",
    "hours_exercise = np.random.normal(5, 1.5, 50)\n",
    "bmi = np.random.normal(25, 3, 50)\n",
    "\n",
    "cor_p=pearsonr(hours_exercise,bmi)[0]\n",
    "print(\"Pearson correlation coefficient: \", cor_p)\n",
    "\n",
    "cor_s= spearmanr(hours_exercise, bmi)[0]\n",
    "print(\"Spearman's rank correlation: \", cor_s)\n"
   ]
  },
  {
   "cell_type": "code",
   "execution_count": 34,
   "id": "6f36092a-c192-420f-8204-75d675a85510",
   "metadata": {},
   "outputs": [
    {
     "name": "stdout",
     "output_type": "stream",
     "text": [
      "Spearman's rank correlation:  -0.23140456182472988\n"
     ]
    }
   ],
   "source": [
    "#Q4. A researcher is interested in examining the relationship between the number of hours individuals spend watching television per day and their \n",
    "#    level of physical activity. The researcher collected data on both variables from a sample of 50 participants. Calculate the Pearson correlation \n",
    "#    coefficient between these two variables.\n",
    "\n",
    "import numpy as np\n",
    "from scipy.stats import pearsonr\n",
    "\n",
    "tv=np.random.normal(2,0.2,50)\n",
    "physical=np.random.normal(1,0.2,50)\n",
    "\n",
    "corr= spearmanr(tv, physical)[0]\n",
    "print(\"Spearman's rank correlation: \", corr)"
   ]
  },
  {
   "cell_type": "code",
   "execution_count": 48,
   "id": "ec8089bc-839e-4666-be6e-4ebcc62e6d8d",
   "metadata": {},
   "outputs": [
    {
     "data": {
      "text/html": [
       "<div>\n",
       "<style scoped>\n",
       "    .dataframe tbody tr th:only-of-type {\n",
       "        vertical-align: middle;\n",
       "    }\n",
       "\n",
       "    .dataframe tbody tr th {\n",
       "        vertical-align: top;\n",
       "    }\n",
       "\n",
       "    .dataframe thead th {\n",
       "        text-align: right;\n",
       "    }\n",
       "</style>\n",
       "<table border=\"1\" class=\"dataframe\">\n",
       "  <thead>\n",
       "    <tr style=\"text-align: right;\">\n",
       "      <th></th>\n",
       "      <th>Age</th>\n",
       "      <th>Soft Drink_Coke</th>\n",
       "      <th>Soft Drink_Mountain Dew</th>\n",
       "      <th>Soft Drink_Pepsi</th>\n",
       "    </tr>\n",
       "  </thead>\n",
       "  <tbody>\n",
       "    <tr>\n",
       "      <th>Age</th>\n",
       "      <td>1.000000</td>\n",
       "      <td>-0.837240</td>\n",
       "      <td>0.394132</td>\n",
       "      <td>0.576439</td>\n",
       "    </tr>\n",
       "    <tr>\n",
       "      <th>Soft Drink_Coke</th>\n",
       "      <td>-0.837240</td>\n",
       "      <td>1.000000</td>\n",
       "      <td>-0.447214</td>\n",
       "      <td>-0.707107</td>\n",
       "    </tr>\n",
       "    <tr>\n",
       "      <th>Soft Drink_Mountain Dew</th>\n",
       "      <td>0.394132</td>\n",
       "      <td>-0.447214</td>\n",
       "      <td>1.000000</td>\n",
       "      <td>-0.316228</td>\n",
       "    </tr>\n",
       "    <tr>\n",
       "      <th>Soft Drink_Pepsi</th>\n",
       "      <td>0.576439</td>\n",
       "      <td>-0.707107</td>\n",
       "      <td>-0.316228</td>\n",
       "      <td>1.000000</td>\n",
       "    </tr>\n",
       "  </tbody>\n",
       "</table>\n",
       "</div>"
      ],
      "text/plain": [
       "                              Age  Soft Drink_Coke  Soft Drink_Mountain Dew  \\\n",
       "Age                      1.000000        -0.837240                 0.394132   \n",
       "Soft Drink_Coke         -0.837240         1.000000                -0.447214   \n",
       "Soft Drink_Mountain Dew  0.394132        -0.447214                 1.000000   \n",
       "Soft Drink_Pepsi         0.576439        -0.707107                -0.316228   \n",
       "\n",
       "                         Soft Drink_Pepsi  \n",
       "Age                              0.576439  \n",
       "Soft Drink_Coke                 -0.707107  \n",
       "Soft Drink_Mountain Dew         -0.316228  \n",
       "Soft Drink_Pepsi                 1.000000  "
      ]
     },
     "execution_count": 48,
     "metadata": {},
     "output_type": "execute_result"
    }
   ],
   "source": [
    "#Q5.A survey was conducted to examine the relationship between age and preference for a particular brand of soft drink. The survey results are shown: \n",
    "\n",
    "#    Age(Years)   Soft drink Preference\n",
    "#       25             Coke\n",
    "#       42             Pepsi\n",
    "#       37             Mountain dew            \n",
    "#       19             Coke\n",
    "#       31             Pepsi\n",
    "#       28             Coke\n",
    "\n",
    "import pandas as pd\n",
    "\n",
    "df=pd.DataFrame({'Age':[25,42,37,19,31,28],\n",
    "             'Soft Drink':['Coke', 'Pepsi', 'Mountain Dew', 'Coke', 'Pepsi', 'Coke']})\n",
    "\n",
    "df = pd.get_dummies(df, columns=['Soft Drink'])\n",
    "\n",
    "df.corr(method='pearson')"
   ]
  },
  {
   "cell_type": "code",
   "execution_count": 60,
   "id": "8cbe0a8f-c33f-42fc-9a34-87746ef77a33",
   "metadata": {},
   "outputs": [
    {
     "name": "stdout",
     "output_type": "stream",
     "text": [
      "Pearson correlation coefficient:  0.2879493069973945\n"
     ]
    }
   ],
   "source": [
    "#Q6. A company is interested in examining the relationship between the number of sales calls made per day and the number of sales made per week. The \n",
    "#    company collected data on both variables from a sample of 30 sales representatives. Calculate the Pearson correlation coefficient between these \n",
    "#    two variables.\n",
    "\n",
    "import numpy as np\n",
    "from scipy.stats import pearsonr\n",
    "\n",
    "call=np.random.normal(100,5,30)\n",
    "sales=np.random.normal(50,10,30)\n",
    "\n",
    "cor_p=pearsonr(call,sales)[0]\n",
    "print(\"Pearson correlation coefficient: \", cor_p)"
   ]
  }
 ],
 "metadata": {
  "kernelspec": {
   "display_name": "Python 3 (ipykernel)",
   "language": "python",
   "name": "python3"
  },
  "language_info": {
   "codemirror_mode": {
    "name": "ipython",
    "version": 3
   },
   "file_extension": ".py",
   "mimetype": "text/x-python",
   "name": "python",
   "nbconvert_exporter": "python",
   "pygments_lexer": "ipython3",
   "version": "3.10.8"
  }
 },
 "nbformat": 4,
 "nbformat_minor": 5
}
