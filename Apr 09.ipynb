{
 "cells": [
  {
   "cell_type": "code",
   "execution_count": null,
   "id": "7f0bc9c3-e51d-4d32-90ef-ffc2bc3bb37a",
   "metadata": {},
   "outputs": [],
   "source": [
    "#Q1. What is Bayes' theorem?\n",
    "\"\"\"\n",
    "Bayes' theorem calculate the probability of event A happening given that event B has occurred. It combines the prior knowledge or belief about the \n",
    "probability of A with the new evidence provided by event B to update that probability. The calculation takes into account the likelihood of \n",
    "event B happening given that event A has occurred (P(B|A)).\n",
    "\"\"\""
   ]
  },
  {
   "cell_type": "code",
   "execution_count": null,
   "id": "ce3f429b-edcf-41c8-8e93-908064131ba6",
   "metadata": {},
   "outputs": [],
   "source": [
    "#Q2. What is the formula for Bayes' theorem?\n",
    "\"\"\"\n",
    "P(A|B) = (P(B|A) * P(A)) / P(B)\n",
    "\n",
    "Where:\n",
    "\n",
    "P(A|B) represents the conditional probability of event A occurring given that event B has already occurred.\n",
    "P(B|A) is the conditional probability of event B occurring given that event A has already occurred.\n",
    "P(A) and P(B) are the probabilities of events A and B occurring independently of each other.\n",
    "\"\"\""
   ]
  },
  {
   "cell_type": "code",
   "execution_count": null,
   "id": "4d021c56-ca7d-47c8-b4d8-19efd5615b6e",
   "metadata": {},
   "outputs": [],
   "source": [
    "#Q3. How is Bayes' theorem used in practice?\n",
    "\"\"\"\n",
    "Bayes' theorem is widely used in various practical applications. Here are a few examples:\n",
    "\n",
    "1. Medical Diagnosis: Bayes' theorem is applied in medical diagnosis to calculate the probability of a patient having a particular disease based on \n",
    "    observed symptoms and test results. It helps update the initial probability of a disease given the test outcome, taking into account the \n",
    "    sensitivity and specificity of the test.\n",
    "\n",
    "2. Spam Filtering: In email spam filtering, Bayes' theorem is used in techniques like Naive Bayes classifiers. These classifiers calculate the \n",
    "    probability of an email being spam or not based on the presence or absence of certain keywords or features. By updating the probabilities as new \n",
    "    emails are classified, the system becomes more accurate over time.\n",
    "\n",
    "3. Weather Forecasting: Bayes' theorem is utilized in weather forecasting to update the probability of different weather conditions based on new \n",
    "    observations. It helps meteorologists refine their predictions by incorporating new data from weather sensors, satellite imagery, and atmospheric\n",
    "    models.\n",
    "\n",
    "4. Fault Diagnosis: In engineering and maintenance, Bayes' theorem is employed for fault diagnosis in complex systems. By combining prior knowledge \n",
    "    of system behavior with observed symptoms or sensor readings, it helps determine the probability of different faults or malfunctions occurring.\n",
    "\"\"\""
   ]
  },
  {
   "cell_type": "code",
   "execution_count": null,
   "id": "3613fbe1-b2c9-4862-835f-c725f8eee790",
   "metadata": {},
   "outputs": [],
   "source": [
    "#Q4. What is the relationship between Bayes' theorem and conditional probability?\n",
    "\"\"\"\n",
    "Bayes' theorem is directly related to conditional probability. In fact, Bayes' theorem can be derived from the concept of conditional probability.\n",
    "\n",
    "Bayes' theorem provides a way to calculate conditional probabilities by reversing the condition. It states that:\n",
    "\n",
    "P(A|B) = (P(B|A) * P(A)) / P(B)\n",
    "\n",
    "Here, P(A|B) is the conditional probability of event A given event B, P(B|A) is the conditional probability of event B given event A, P(A) is the \n",
    "probability of event A, and P(B) is the probability of event B.\n",
    "\"\"\""
   ]
  },
  {
   "cell_type": "code",
   "execution_count": null,
   "id": "03529cda-4446-426c-93db-d543440db9dc",
   "metadata": {},
   "outputs": [],
   "source": [
    "#Q5. How do you choose which type of Naive Bayes classifier to use for any given problem?\n",
    "\"\"\"\n",
    "When selecting the type of Naive Bayes classifier for a particular problem, you should consider the characteristics of the data and the assumptions \n",
    "made by each classifier variant.\n",
    "\n",
    "1. Bernoulli Naive Bayes: It assumes binary features or presence/absence indicators. It is useful for binary or boolean data, like document \n",
    "    classification based on the presence or absence of words.\n",
    "\n",
    "2. Multinomial Naive Bayes: It assumes that features represent the frequencies or counts of discrete data. It works well with integer counts or \n",
    "    frequency-based data, such as text classification where features are word frequencies.\n",
    "\n",
    "3. Gaussian Naive Bayes: It assumes that continuous features follow a Gaussian (normal) distribution. It is suitable for continuous numeric data.\n",
    "\"\"\""
   ]
  },
  {
   "cell_type": "code",
   "execution_count": null,
   "id": "bea8a2cf-01ef-4c4e-9557-0af9ded3f527",
   "metadata": {},
   "outputs": [],
   "source": [
    "#Q6. You have a dataset with two features, X1 and X2, and two possible classes, A and B. You want to use Naive Bayes to classify a new instance with \n",
    "#    features X1 = 3 and X2 = 4. The following table shows the frequency of each feature value for each class:\n",
    "#    Class X1=1 X1=2 X1=3 X2=1 X2=2 X2=3 X2=4\n",
    "#      A    3    3    4    4    3    3    3\n",
    "#      B    2    2    1    2    2    2    3\n",
    "#    Assuming equal prior probabilities for each class, which class would Naive Bayes predict the new instance to belong to?\n",
    "\"\"\"\n",
    " Class | X1=1 | X1=2 | X1=3 | X2=1 | X2=2 | X2=3 | X2=4  |  Total\n",
    "   A   |  3   |  3   |  4   |  4   |  3   |  3   |  3    |   23\n",
    "   B   |  2   |  2   |  1   |  2   |  2   |  2   |  3    |   14\n",
    "\n",
    "Total  |  5   |  5   |  5   |  6   |  5   |  5   |  6    |   37\n",
    "\n",
    "Assuming equal prior probabilities for each class P(A)=P(B)=0.5\n",
    "\n",
    "So we have X1=3 and X2=4\n",
    "\n",
    "P(X1=3 / A) = 4/23\n",
    "P(X2=4 / A) = 3/23\n",
    "\n",
    "P(X1=3 | B) = 1/14\n",
    "P(X2=4 | B) = 3/14\n",
    "\n",
    "P(A / X1=3,X2=4) = {P(A)* P(X1=3 / A) * P(X2=4 / A)} / { p(X1) * P(X2) }\n",
    "                 = {0.5 * 4/23 * 3/23} / { p(X1) * P(X2) }\n",
    "                 = 0.011 / { p(X1) * P(X2) }\n",
    "\n",
    "\n",
    "P(A / X1=3,X2=4) = {P(A)* P(X1=3 / A) * P(X2=4 / A)} / { p(X1) * P(X2) }\n",
    "                 = {0.5 * 1/14 * 3/14} / { p(X1) * P(X2) }\n",
    "                 = 0.007 / { p(X1) * P(X2) }\n",
    "                 \n",
    "As 0.011 > 0.007 so Naive baye's would predict class A for X1=3 and X2=4.\n",
    "\"\"\""
   ]
  }
 ],
 "metadata": {
  "kernelspec": {
   "display_name": "Python 3 (ipykernel)",
   "language": "python",
   "name": "python3"
  },
  "language_info": {
   "codemirror_mode": {
    "name": "ipython",
    "version": 3
   },
   "file_extension": ".py",
   "mimetype": "text/x-python",
   "name": "python",
   "nbconvert_exporter": "python",
   "pygments_lexer": "ipython3",
   "version": "3.10.8"
  }
 },
 "nbformat": 4,
 "nbformat_minor": 5
}
