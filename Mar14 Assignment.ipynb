{
 "cells": [
  {
   "cell_type": "code",
   "execution_count": 4,
   "id": "9930ed2e-f58a-47a8-be86-8e7b6c8d57a4",
   "metadata": {},
   "outputs": [
    {
     "name": "stdout",
     "output_type": "stream",
     "text": [
      "F-value: 0.25\n",
      "p-value: 0.896\n"
     ]
    }
   ],
   "source": [
    "#Q1. Write a Python function that takes in two arrays of data and calculates the F-value for a variance ratio test. The function should return the \n",
    "#    F-value and the corresponding p-value for the test.\n",
    "\n",
    "import numpy as np\n",
    "from scipy.stats import f\n",
    "\n",
    "def variance_ratio_test(x, y):\n",
    "    # Calculate the variance of the two arrays\n",
    "    var_x = np.var(x, ddof=1)\n",
    "    var_y = np.var(y, ddof=1)\n",
    "\n",
    "    # Calculate the F-value and corresponding p-value\n",
    "    f_value = var_x / var_y\n",
    "    p_value = f.sf(f_value, len(x)-1, len(y)-1)\n",
    "\n",
    "    return f_value, p_value\n",
    "\n",
    "x = [1, 2, 3, 4, 5]\n",
    "y = [2, 4, 6, 8, 10]\n",
    "f_value, p_value = variance_ratio_test(x, y)\n",
    "print(\"F-value:\", f_value)\n",
    "print(\"p-value:\", p_value)\n"
   ]
  },
  {
   "cell_type": "code",
   "execution_count": null,
   "id": "1c707abe-06a3-4d45-b506-3803910928fb",
   "metadata": {},
   "outputs": [],
   "source": [
    "#Q2. Given a significance level of 0.05 and the degrees of freedom for the numerator and denominator of an F-distribution, write a Python function \n",
    "#    that returns the critical F-value for a two-tailed test.\n",
    "\n",
    "from scipy.stats import f\n",
    "\n",
    "def critical_f_value(alpha, dfn, dfd):\n",
    "    return f.ppf(alpha/2, dfn, dfd), f.ppf(1 - alpha/2, dfn, dfd)\n"
   ]
  },
  {
   "cell_type": "code",
   "execution_count": 24,
   "id": "962098c6-d811-4e36-9f94-992c2cf064ad",
   "metadata": {},
   "outputs": [
    {
     "name": "stdout",
     "output_type": "stream",
     "text": [
      "F-value: 0.4581304735132033\n",
      "Degrees of freedom: 9 , 9\n",
      "P-value: 0.26045658967492386\n"
     ]
    },
    {
     "data": {
      "text/plain": [
       "array([ 0.49671415, -0.1382643 ,  0.64768854,  1.52302986, -0.23415337,\n",
       "       -0.23413696,  1.57921282,  0.76743473, -0.46947439,  0.54256004])"
      ]
     },
     "execution_count": 24,
     "metadata": {},
     "output_type": "execute_result"
    }
   ],
   "source": [
    "#Q3. Write a Python program that generates random samples from two normal distributions with known variances and uses an F-test to determine if the \n",
    "#    variances are equal. The program should output the F-value, degrees of freedom, and p-value for the test.\n",
    "\n",
    "import numpy as np\n",
    "from scipy.stats import f\n",
    "\n",
    "np.random.seed(42)\n",
    "\n",
    "mu1 = 0\n",
    "var1 = 1\n",
    "mu2 = 0\n",
    "var2 = 2\n",
    "\n",
    "n = 10\n",
    "sample1 = np.random.normal(mu1, np.sqrt(var1), n)\n",
    "sample2 = np.random.normal(mu2, np.sqrt(var2), n)\n",
    "\n",
    "f_value = np.var(sample1, ddof=1) / np.var(sample2, ddof=1)\n",
    "\n",
    "df1 = n - 1\n",
    "df2 = n - 1\n",
    "\n",
    "p_value = 2 * min(f.cdf(f_value, df1, df2), 1 - f.cdf(f_value, df1, df2))\n",
    "\n",
    "print(\"F-value:\", f_value)\n",
    "print(\"Degrees of freedom:\", df1, \",\", df2)\n",
    "print(\"P-value:\", p_value)\n"
   ]
  },
  {
   "cell_type": "code",
   "execution_count": 63,
   "id": "1126477f-577e-4659-86ab-303847ad9187",
   "metadata": {},
   "outputs": [
    {
     "name": "stdout",
     "output_type": "stream",
     "text": [
      "The variances are significantly different.\n"
     ]
    },
    {
     "data": {
      "text/plain": [
       "array([ 1.57074807, -0.43723011,  2.04817099,  4.81624329, -0.74045799,\n",
       "       -0.74040607,  4.99390941,  2.4268417 , -1.48460836,  1.71572551,\n",
       "       -1.46545542, -1.4727668 ])"
      ]
     },
     "execution_count": 63,
     "metadata": {},
     "output_type": "execute_result"
    }
   ],
   "source": [
    "#Q4.The variances of two populations are known to be 10 and 15. A sample of 12 observations is taken from each population. Conduct an F-test at the 5%\n",
    "#   significance level to determine if the variances are significantly different.\n",
    "\n",
    "import numpy as np\n",
    "from scipy.stats import f_oneway\n",
    "\n",
    "# population variances\n",
    "var1 = 10\n",
    "var2 = 15\n",
    "\n",
    "# sample sizes\n",
    "n1 = n2 = 12\n",
    "\n",
    "# generate random samples from populations\n",
    "np.random.seed(42)\n",
    "sample1 = np.random.normal(loc=0, scale=np.sqrt(var1), size=n1)\n",
    "sample2 = np.random.normal(loc=0, scale=np.sqrt(var2), size=n2)\n",
    "\n",
    "# conduct F-test\n",
    "f_statistic, p_value = f_oneway(sample1, sample2)\n",
    "\n",
    "# check significance level\n",
    "alpha = 0.05\n",
    "if p_value < alpha:\n",
    "    print(\"The variances are significantly different.\")\n",
    "else:\n",
    "    print(\"The variances are not significantly different.\")\n",
    "sample1"
   ]
  },
  {
   "cell_type": "code",
   "execution_count": 53,
   "id": "1ef71b12-f534-4cda-a04e-0d5c6aab16b2",
   "metadata": {},
   "outputs": [],
   "source": [
    "#Q5. A manufacturer claims that the variance of the diameter of a certain product is 0.005. A sample of 25 products is taken, and the sample variance \n",
    "#    is found to be 0.006. Conduct an F-test at the 1% significance level to determine if the claim is justified.\n",
    "\"\"\"\n",
    "var_p = 0.005\n",
    "n=25\n",
    "var_s = 0.006\n",
    "\n",
    "Null hypothesis: The variance of the diameter of the product is equal to 0.005.\n",
    "Alternative hypothesis: The variance of the diameter of the product is greater than 0.005.\n",
    "\n",
    "We can use the F-test formula to calculate the test statistic as:\n",
    "\n",
    "F = (sample variance) / (population variance)\n",
    "F = 0.006 / 0.005 \n",
    "  = 1.2\n",
    "\n",
    "Critical value of F at the 1% significance level with 24 degrees of freedom in the numerator and 24 degrees of freedom in the denominator,\n",
    "is approximately 2.70.\n",
    "\n",
    "Since our calculated F-value of 1.2 is less than the critical value of 2.70, we fail to reject the null hypothesis. \n",
    "Therefore, there is not enough evidence to suggest that the variance of the diameter of the product is greater than 0.005. The manufacturer's \n",
    "claim is justified at the 1% significance level.\n",
    "\"\"\""
   ]
  },
  {
   "cell_type": "code",
   "execution_count": 56,
   "id": "40b4e44d-8cc2-4325-b606-eba2cf967a2c",
   "metadata": {},
   "outputs": [
    {
     "data": {
      "text/plain": [
       "(1.1666666666666667, 0.49)"
      ]
     },
     "execution_count": 56,
     "metadata": {},
     "output_type": "execute_result"
    }
   ],
   "source": [
    "#Q6. Write a Python function that takes in the degrees of freedom for the numerator and denominator of an F-distribution and calculates the mean and \n",
    "#    variance of the distribution. The function should return the mean and variance as a tuple.\n",
    "\n",
    "from math import sqrt\n",
    "\n",
    "def f_distribution_mean_var(df_numerator, df_denominator):\n",
    "    mean = df_denominator / (df_denominator - 2)\n",
    "    variance = (2 * df_denominator ** 2 * (df_numerator + df_denominator - 2)) / \\\n",
    "               (df_numerator * (df_denominator - 2) ** 2 * (df_denominator - 4))\n",
    "    return mean, variance\n",
    "\n",
    "f_distribution_mean_var(15,14)"
   ]
  },
  {
   "cell_type": "code",
   "execution_count": null,
   "id": "ba579bc1-09ee-4375-a415-2180afabe20e",
   "metadata": {},
   "outputs": [],
   "source": [
    "#Q7. A random sample of 10 measurements is taken from a normal population with unknown variance. The sample variance is found to be 25. Another random\n",
    "#    sample of 15 measurements is taken from another normal population with unknown variance, and the sample variance is found to be 20. Conduct an \n",
    "#    F-test at the 10% significance level to determine if the variances are significantly different.\n",
    "\"\"\"\n",
    "var_s1 = 25\n",
    "n1 = 10\n",
    "dof1 = 10-1 = 9\n",
    "\n",
    "var_s2 = 20\n",
    "n2 = 15\n",
    "dof2 = 15-1 = 14\n",
    "\n",
    "Null hypothesis: The two populations have equal variances.\n",
    "Alternative hypothesis: The two populations have unequal variances.\n",
    "\n",
    "F = var_s1/var_s2\n",
    "  = 25/20\n",
    "  = 1.25\n",
    "  \n",
    "Critical F-value for a 10% significance level with 9 and 14 degrees of freedom is 2.44.\n",
    "\n",
    "Since the calculated F-value (1.25) is less than the critical F-value (2.44), we fail to reject the null hypothesis. \n",
    "Therefore, we can conclude that there is not enough evidence to suggest that the two populations have significantly different variances at a\n",
    "10% significance level.\n",
    "\"\"\""
   ]
  },
  {
   "cell_type": "code",
   "execution_count": 71,
   "id": "ddbe6402-7f8b-4736-bdee-9c04789c36e9",
   "metadata": {},
   "outputs": [],
   "source": [
    "#Q8. The following data represent the waiting times in minutes at two different restaurants on a Saturday night: Restaurant A: 24,25,28,23,22,20,27;\n",
    "#    Restaurant B: 31, 33, 35, 30, 32, 36. Conduct an F-test at the 5% significance level to determine if the variances are significantly different.\n",
    "\"\"\"\n",
    "s1=[24, 25, 28, 23, 22, 20, 27]\n",
    "n1 = 7\n",
    "\n",
    "s2=[31, 33, 35, 30, 32, 36]\n",
    "n2 = 6\n",
    "\n",
    "\n",
    "Var_s1 = [(24-24.57)^2 + (25-24.57)^2 + (28-24.57)^2 + (23-24.57)^2 + (22-24.57)^2 + (20-24.57)^2 + (27-24.57)^2] / (7-1)\n",
    "       = [0.0196 + 0.3249 + 8.4961 + 1.7329 + 5.5561 + 17.3161 + 5.4761] / 6\n",
    "       = 7.2473\n",
    "\n",
    "Var_s2 = [(31-32.83)^2 + (33-32.83)^2 + (35-32.83)^2 + (30-32.83)^2 + (32-32.83)^2 + (36-32.83)^2] / (6-1)\n",
    "       = [3.2921 + 0.6889 + 4.0769 + 9.9561 + 0.7396 + 10.4761] / 5\n",
    "       = 5.0467\n",
    "\n",
    "F = Var_s1 / Var_s2 \n",
    "  = 7.2473 / 5.0467 \n",
    "  = 1.4378\n",
    "\n",
    "The critical value for α = 0.05 and df1 = 6, df2 = 5 is 4.39.\n",
    "\n",
    "Since F = 1.4378 is less than the critical value of 4.39, we fail to reject the null hypothesis that the variances of the two populations are equal.\n",
    "Therefore, we conclude that there is not enough evidence to suggest that the variances of the waiting times at the two restaurants are significantly \n",
    "different at the 5% significance level.\n",
    "\"\"\""
   ]
  },
  {
   "cell_type": "code",
   "execution_count": 79,
   "id": "37d0e8d4-f317-4ce3-bc04-98de444750de",
   "metadata": {},
   "outputs": [],
   "source": [
    "#Q9. The following data represent the test scores of two groups of students: Group A: 80, 85, 90, 92, 87, 83; Group B: 75, 78, 82, 79, 81, 84. Conduct\n",
    "#    an F-test at the 1% significance level to determine if the variances are significantly different.\n",
    "\"\"\"\n",
    "s1= [80, 85, 90, 92, 87, 83]\n",
    "n1= 6\n",
    "\n",
    "s2= [75, 78, 82, 79, 81, 84]\n",
    "n2= 6\n",
    "\n",
    "var_s1= 19.76\n",
    "\n",
    "var_s2= 10.16\n",
    "\n",
    "F = var_s1 / var_s2 \n",
    "  = 19.76 / 10.16\n",
    "  = 1.94\n",
    "\n",
    "The critical value for α = 0.01 and df1 = 5, df2 = 5 is 10.97\n",
    "\n",
    "Since F = 1.4378 is less than the critical value of 10.97, we fail to reject the null hypothesis that the variances of the two groups are equal.\n",
    "Therefore, we conclude that there is not enough evidence to suggest that the variances of test scores of two groupsof students are significantly \n",
    "different at the 1% significance level.\n",
    "\"\"\""
   ]
  }
 ],
 "metadata": {
  "kernelspec": {
   "display_name": "Python 3 (ipykernel)",
   "language": "python",
   "name": "python3"
  },
  "language_info": {
   "codemirror_mode": {
    "name": "ipython",
    "version": 3
   },
   "file_extension": ".py",
   "mimetype": "text/x-python",
   "name": "python",
   "nbconvert_exporter": "python",
   "pygments_lexer": "ipython3",
   "version": "3.10.8"
  }
 },
 "nbformat": 4,
 "nbformat_minor": 5
}
