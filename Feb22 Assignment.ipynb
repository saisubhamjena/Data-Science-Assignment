{
 "cells": [
  {
   "cell_type": "code",
   "execution_count": 3,
   "id": "f369e0b0-4cbe-4ade-b898-b52ae76b6359",
   "metadata": {},
   "outputs": [
    {
     "data": {
      "text/plain": [
       "0     4\n",
       "1     8\n",
       "2    15\n",
       "3    16\n",
       "4    23\n",
       "5    42\n",
       "dtype: int64"
      ]
     },
     "execution_count": 3,
     "metadata": {},
     "output_type": "execute_result"
    }
   ],
   "source": [
    "#Q1. Create a Pandas Series that contains the following data: 4, 8, 15, 16, 23, and 42. Then, print the series.\n",
    "\n",
    "import pandas as pd\n",
    "\n",
    "data=[4, 8, 15, 16, 23, 42]\n",
    "\n",
    "pd.Series(data)"
   ]
  },
  {
   "cell_type": "code",
   "execution_count": 4,
   "id": "95df4ac1-3f60-439b-8f05-17c36c40e1e8",
   "metadata": {},
   "outputs": [
    {
     "data": {
      "text/plain": [
       "0           1\n",
       "1           2\n",
       "2           3\n",
       "3           4\n",
       "4    pwskills\n",
       "5      pandas\n",
       "6         5.6\n",
       "7         7.8\n",
       "8      {0, 9}\n",
       "9        True\n",
       "dtype: object"
      ]
     },
     "execution_count": 4,
     "metadata": {},
     "output_type": "execute_result"
    }
   ],
   "source": [
    "#Q2. Create a variable of list type containing 10 elements in it, and apply pandas.Series function on the variable print it.\n",
    "\n",
    "import pandas as pd\n",
    "\n",
    "list_10=[1,2,3,4,\"pwskills\",\"pandas\",5.6,7.8,{0,9},True]\n",
    "\n",
    "pd.Series(list_10)"
   ]
  },
  {
   "cell_type": "code",
   "execution_count": 9,
   "id": "28bece2e-4da0-4319-85a0-5d8acab03a20",
   "metadata": {},
   "outputs": [
    {
     "data": {
      "text/html": [
       "<div>\n",
       "<style scoped>\n",
       "    .dataframe tbody tr th:only-of-type {\n",
       "        vertical-align: middle;\n",
       "    }\n",
       "\n",
       "    .dataframe tbody tr th {\n",
       "        vertical-align: top;\n",
       "    }\n",
       "\n",
       "    .dataframe thead th {\n",
       "        text-align: right;\n",
       "    }\n",
       "</style>\n",
       "<table border=\"1\" class=\"dataframe\">\n",
       "  <thead>\n",
       "    <tr style=\"text-align: right;\">\n",
       "      <th></th>\n",
       "      <th>Name</th>\n",
       "      <th>Age</th>\n",
       "      <th>Gender</th>\n",
       "    </tr>\n",
       "  </thead>\n",
       "  <tbody>\n",
       "    <tr>\n",
       "      <th>0</th>\n",
       "      <td>Alice</td>\n",
       "      <td>25</td>\n",
       "      <td>Female</td>\n",
       "    </tr>\n",
       "    <tr>\n",
       "      <th>1</th>\n",
       "      <td>Bob</td>\n",
       "      <td>30</td>\n",
       "      <td>Male</td>\n",
       "    </tr>\n",
       "    <tr>\n",
       "      <th>2</th>\n",
       "      <td>Claire</td>\n",
       "      <td>27</td>\n",
       "      <td>Female</td>\n",
       "    </tr>\n",
       "  </tbody>\n",
       "</table>\n",
       "</div>"
      ],
      "text/plain": [
       "     Name  Age  Gender\n",
       "0   Alice   25  Female\n",
       "1     Bob   30    Male\n",
       "2  Claire   27  Female"
      ]
     },
     "execution_count": 9,
     "metadata": {},
     "output_type": "execute_result"
    }
   ],
   "source": [
    "#Q3. Create a Pandas DataFrame that contains the following data. Then, print the DataFrame.\n",
    "#     Name       Age    Gender\n",
    "#     Alice      25     Female\n",
    "#     Bob        30     Male\n",
    "#     Claire     27     Female\n",
    "\n",
    "import pandas as pd\n",
    "\n",
    "data={'Name':['Alice','Bob','Claire'] , 'Age':[25,30,27] , 'Gender':['Female','Male','Female']}\n",
    "\n",
    "pd.DataFrame(data)"
   ]
  },
  {
   "cell_type": "code",
   "execution_count": null,
   "id": "131bb422-cbf1-432a-927c-c2c273c27b58",
   "metadata": {},
   "outputs": [],
   "source": [
    "#Q4. What is ‘DataFrame’ in pandas and how is it different from pandas.series? Explain with an example.\n",
    "\"\"\"\n",
    "DataFrame is a two-dimensional tabular data structure,consists of rows and columns that can store data of different data types in columns,\n",
    "much like a spreadsheet or SQL table.\n",
    "\n",
    "Ex:\n",
    "    Name\tAge   Gender\n",
    "0\tAlice\t25    Female\n",
    "1\tBob  \t30\t  Male\n",
    "2\tClaire\t27\t  Female\n",
    "\n",
    "Series is a one-dimensional array-like object that can store data of a single data type. It can be considered as a single column of a DataFrame.\n",
    "\n",
    "Ex:\n",
    "Name        [Alice, Bob, Claire]\n",
    "Age                 [25, 30, 27]\n",
    "Gender    [Female, Male, Female]\n",
    "\"\"\""
   ]
  },
  {
   "cell_type": "code",
   "execution_count": null,
   "id": "2ba62b41-8455-476b-938c-375875c40548",
   "metadata": {},
   "outputs": [],
   "source": [
    "#Q5. What are some common functions you can use to manipulate data in a Pandas DataFrame? Can you give an example of when you might use one of these \n",
    "#    functions?\n",
    "\"\"\"\n",
    "There are many functions available in Pandas to manipulate data in a DataFrame:\n",
    "1. df.head(n): Returns the first n rows of the DataFrame. \n",
    "2. df.tail(n): Returns the last n rows of the DataFrame. \n",
    "3. df.colums(): Retuens the name of the columns\n",
    "4. df.info(): Returns information about the DataFrame, including the number of rows and columns, the data types of the columns, and the amount \n",
    "              of memory used.\n",
    "5. df.describe(): Generates descriptive statistics for the DataFrame, such as the mean, standard deviation, minimum, and maximum values\n",
    "6. df.fillna(value): Fills missing values in the DataFrame with the specified value.\n",
    "7. df.fillna(value): Fills missing values in the DataFrame with the specified value.\n",
    "\"\"\""
   ]
  },
  {
   "cell_type": "code",
   "execution_count": null,
   "id": "e600246c-fd49-4353-8099-f1a6c4649ac3",
   "metadata": {},
   "outputs": [],
   "source": [
    "#Q6. Which of the following is mutable in nature Series, DataFrame, Panel?\n",
    "\"\"\"\n",
    "Series, DataFrame and Panel all three are mutable in nature, meaning their values can be modified after they are created. \n",
    "\n",
    "However, Panel is no longer a recommended data structure in pandas and has been deprecated since version 0.25.0. Instead, pandas now recommends using\n",
    "MultiIndex objects or simply using a dictionary of DataFrames when working with 3 or more dimensions.\n",
    "\"\"\""
   ]
  },
  {
   "cell_type": "code",
   "execution_count": 11,
   "id": "139b9eaf-59b5-4821-a205-f1b11d5c4b22",
   "metadata": {},
   "outputs": [
    {
     "data": {
      "text/html": [
       "<div>\n",
       "<style scoped>\n",
       "    .dataframe tbody tr th:only-of-type {\n",
       "        vertical-align: middle;\n",
       "    }\n",
       "\n",
       "    .dataframe tbody tr th {\n",
       "        vertical-align: top;\n",
       "    }\n",
       "\n",
       "    .dataframe thead th {\n",
       "        text-align: right;\n",
       "    }\n",
       "</style>\n",
       "<table border=\"1\" class=\"dataframe\">\n",
       "  <thead>\n",
       "    <tr style=\"text-align: right;\">\n",
       "      <th></th>\n",
       "      <th>Name</th>\n",
       "      <th>Age</th>\n",
       "      <th>Salary</th>\n",
       "    </tr>\n",
       "  </thead>\n",
       "  <tbody>\n",
       "    <tr>\n",
       "      <th>0</th>\n",
       "      <td>Sai</td>\n",
       "      <td>25</td>\n",
       "      <td>50000</td>\n",
       "    </tr>\n",
       "    <tr>\n",
       "      <th>1</th>\n",
       "      <td>Subham</td>\n",
       "      <td>30</td>\n",
       "      <td>60000</td>\n",
       "    </tr>\n",
       "    <tr>\n",
       "      <th>2</th>\n",
       "      <td>Jena</td>\n",
       "      <td>35</td>\n",
       "      <td>70000</td>\n",
       "    </tr>\n",
       "  </tbody>\n",
       "</table>\n",
       "</div>"
      ],
      "text/plain": [
       "     Name  Age  Salary\n",
       "0     Sai   25   50000\n",
       "1  Subham   30   60000\n",
       "2    Jena   35   70000"
      ]
     },
     "execution_count": 11,
     "metadata": {},
     "output_type": "execute_result"
    }
   ],
   "source": [
    "#Q7. Create a DataFrame using multiple Series. Explain with an example.\n",
    "\n",
    "import pandas as pd\n",
    "\n",
    "names = pd.Series(['Sai', 'Subham', 'Jena'])\n",
    "ages = pd.Series([25, 30, 35,])\n",
    "salaries = pd.Series([50000, 60000, 70000])\n",
    "\n",
    "data={'Name':names,'Age':ages,'Salary':salaries}\n",
    "pd.DataFrame(data)\n"
   ]
  }
 ],
 "metadata": {
  "kernelspec": {
   "display_name": "Python 3 (ipykernel)",
   "language": "python",
   "name": "python3"
  },
  "language_info": {
   "codemirror_mode": {
    "name": "ipython",
    "version": 3
   },
   "file_extension": ".py",
   "mimetype": "text/x-python",
   "name": "python",
   "nbconvert_exporter": "python",
   "pygments_lexer": "ipython3",
   "version": "3.10.8"
  }
 },
 "nbformat": 4,
 "nbformat_minor": 5
}
