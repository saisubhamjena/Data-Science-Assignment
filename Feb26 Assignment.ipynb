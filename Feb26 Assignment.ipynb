{
 "cells": [
  {
   "cell_type": "code",
   "execution_count": 13,
   "id": "4c3df8e9-a15e-4656-b2f8-afb3d08cbcee",
   "metadata": {},
   "outputs": [
    {
     "name": "stdout",
     "output_type": "stream",
     "text": [
      "<class 'list'>\n",
      "<class 'numpy.ndarray'>\n"
     ]
    }
   ],
   "source": [
    "#Consider the below code to answer further questions:\n",
    "import numpy as np\n",
    "list_ = [ '1' , '2' ,'3' , '4' , '5' ]\n",
    "array_list = np.array(object = list_)\n",
    "\n",
    "#Q1. Is there any difference in the data type of variables list_ and array_list? If there is then write a code to print the data types of\n",
    "#    both the variables.\n",
    "\"\"\"\n",
    "A list is usually a dynamic data structure that can hold elements of different data types, while an array is a fixed-size data structure that holds \n",
    "elements of the same data type.\n",
    "\"\"\"\n",
    "import numpy as np\n",
    "list_ = [ '1' , '2' ,'3' , '4' , '5' ]\n",
    "array_list = np.array(object = list_)\n",
    "\n",
    "print(type(list_))\n",
    "print(type(array_list))\n"
   ]
  },
  {
   "cell_type": "code",
   "execution_count": 29,
   "id": "da8e6ebb-8f73-44fc-8c63-0905b8ff09c9",
   "metadata": {},
   "outputs": [
    {
     "name": "stdout",
     "output_type": "stream",
     "text": [
      "Data type of each and every element of list_\n",
      "<class 'str'>\n",
      "<class 'str'>\n",
      "<class 'str'>\n",
      "<class 'str'>\n",
      "<class 'str'>\n",
      "Data type of each and every element of array_list\n",
      "<class 'numpy.str_'>\n",
      "<class 'numpy.str_'>\n",
      "<class 'numpy.str_'>\n",
      "<class 'numpy.str_'>\n",
      "<class 'numpy.str_'>\n"
     ]
    }
   ],
   "source": [
    "#Q2. Write a code to print the data type of each and every element of both the variables list_ and array_list.\n",
    "\n",
    "import pandas as pd\n",
    "\n",
    "list_ = [ '1' , '2' ,'3' , '4' , '5' ]\n",
    "array_list = np.array(object = list_)\n",
    "\n",
    "print(\"Data type of each and every element of list_\")\n",
    "for i in list_:\n",
    "    print(type(i))\n",
    "    \n",
    "print(\"Data type of each and every element of array_list\")\n",
    "for i in array_list:\n",
    "    print(type(i))"
   ]
  },
  {
   "cell_type": "code",
   "execution_count": 35,
   "id": "f53aacb0-31ae-41c1-a294-b88d69ebf70a",
   "metadata": {},
   "outputs": [
    {
     "name": "stdout",
     "output_type": "stream",
     "text": [
      "Data type of each and every element of array_list\n",
      "<class 'numpy.int64'>\n",
      "<class 'numpy.int64'>\n",
      "<class 'numpy.int64'>\n",
      "<class 'numpy.int64'>\n",
      "<class 'numpy.int64'>\n",
      "Data type of each and every element of list_\n",
      "<class 'str'>\n",
      "<class 'str'>\n",
      "<class 'str'>\n",
      "<class 'str'>\n",
      "<class 'str'>\n"
     ]
    }
   ],
   "source": [
    "#Q3. Considering  the following changes in the variable, array_list: array_list = np.array(object = list_, dtype = int) ,Will there be any difference \n",
    "#    in the data type of the elements present in both the variables, list_ and arra_list? If so then print the data types of each and every element \n",
    "#    present in both the variables, list_ and arra_list.\n",
    "\"\"\"\n",
    "Yes there will be difference in the data type of the elements present in both the variables, list_ and arra_list\n",
    "\"\"\"\n",
    "array_list_int = np.array(object = list_, dtype = int)\n",
    "\n",
    "print(\"Data type of each and every element of array_list\")\n",
    "for i in array_list_int:\n",
    "    print(type(i))\n",
    "    \n",
    "print(\"Data type of each and every element of list_\")\n",
    "for i in list_:\n",
    "    print(type(i))"
   ]
  },
  {
   "cell_type": "code",
   "execution_count": 33,
   "id": "75faae42-3e90-48ec-a865-7ca58a5a9122",
   "metadata": {},
   "outputs": [
    {
     "name": "stdout",
     "output_type": "stream",
     "text": [
      "Size of num_array is:  (2, 3)\n",
      "Shape of num_array is:  6\n"
     ]
    }
   ],
   "source": [
    "# Consider the below code to answer further questions:\n",
    "import numpy as np\n",
    "num_list = [ [ 1 , 2 , 3 ] , [ 4 , 5 , 6 ] ]\n",
    "num_array = np.array(object = num_list)\n",
    "\n",
    "#Q4. Write a code to find the following characteristics of variable, num_array: (i) shape (ii) size.\n",
    "\n",
    "print(\"Size of num_array is: \",num_array.shape)\n",
    "\n",
    "print(\"Shape of num_array is: \",num_array.size)"
   ]
  },
  {
   "cell_type": "code",
   "execution_count": 22,
   "id": "4139b389-ff27-46f7-8eff-0a34927220d8",
   "metadata": {},
   "outputs": [
    {
     "data": {
      "text/plain": [
       "array([[0., 0., 0.],\n",
       "       [0., 0., 0.],\n",
       "       [0., 0., 0.]])"
      ]
     },
     "execution_count": 22,
     "metadata": {},
     "output_type": "execute_result"
    }
   ],
   "source": [
    "#Q5. Write a code to create numpy array of 3*3 matrix containing zeros only, using a numpy array creation function.\n",
    "#    [Hint: The size of the array will be 9 and the shape will be (3,3).]\n",
    "\n",
    "import numpy as np\n",
    "\n",
    "np.zeros((3,3))"
   ]
  },
  {
   "cell_type": "code",
   "execution_count": 25,
   "id": "7d118031-fd02-42a6-b06d-1448683b6621",
   "metadata": {},
   "outputs": [
    {
     "data": {
      "text/plain": [
       "array([[1., 0., 0., 0., 0.],\n",
       "       [0., 1., 0., 0., 0.],\n",
       "       [0., 0., 1., 0., 0.],\n",
       "       [0., 0., 0., 1., 0.],\n",
       "       [0., 0., 0., 0., 1.]])"
      ]
     },
     "execution_count": 25,
     "metadata": {},
     "output_type": "execute_result"
    }
   ],
   "source": [
    "#Q6. Create an identity matrix of shape (5,5) using numpy functions? \n",
    "#    [Hint: An identity matrix is a matrix containing 1 diagonally and other elements will be 0.]\n",
    "\n",
    "import numpy as np\n",
    "\n",
    "np.eye(5,5)"
   ]
  }
 ],
 "metadata": {
  "kernelspec": {
   "display_name": "Python 3 (ipykernel)",
   "language": "python",
   "name": "python3"
  },
  "language_info": {
   "codemirror_mode": {
    "name": "ipython",
    "version": 3
   },
   "file_extension": ".py",
   "mimetype": "text/x-python",
   "name": "python",
   "nbconvert_exporter": "python",
   "pygments_lexer": "ipython3",
   "version": "3.10.8"
  }
 },
 "nbformat": 4,
 "nbformat_minor": 5
}
