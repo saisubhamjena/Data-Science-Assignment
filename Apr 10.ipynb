{
 "cells": [
  {
   "cell_type": "code",
   "execution_count": null,
   "id": "e3b419c8-27e5-4ed7-ba89-13946033573e",
   "metadata": {},
   "outputs": [],
   "source": [
    "#Q1. A company conducted a survey of its employees and found that 70% of the employees use the company's health insurance plan, while 40% of the \n",
    "#    employees who use the plan are smokers. What is the probability that an employee is a smoker given that he/she uses the health insurance plan?\n",
    "\"\"\"\n",
    "I: Event of employee who use company insurance plan \n",
    "S: Event of employee who smoke\n",
    "\n",
    "pr(I)=0.7\n",
    "pr(I/S)=0.4\n",
    "\n",
    "By conditional probability:\n",
    "pr(S and I) = pr(I)*pr(I/S)\n",
    "            = 0.7 * 0.4\n",
    "            = 0.28\n",
    "            \n",
    "We know that:          \n",
    "pr(S) + pr(I) - pr(S and I)= 1\n",
    "pr(S) = 1 + 0.28 - 0.7\n",
    "      = 0.58\n",
    "      \n",
    "pr(S/I)= ( pr(S) * pr(I/S) ) / pr(I)\n",
    "       = 0.58 * 0.4 / 0.7\n",
    "       = 0.33\n",
    "The probability that an employee is a smoker given that he/she uses the health insurance plan is 33 %\n",
    "\"\"\""
   ]
  },
  {
   "cell_type": "code",
   "execution_count": null,
   "id": "cda443bc-7299-458c-b049-791cabd500f6",
   "metadata": {},
   "outputs": [],
   "source": [
    "#Q2. What is the difference between Bernoulli Naive Bayes and Multinomial Naive Bayes?\n",
    "\"\"\"\n",
    "Bernoulli Naive Bayes: \n",
    "* It is designed for binary or boolean data, where features are represented as 0s and 1s, indicating the absence or presence of a particular feature.\n",
    "* It assumes that features are independent binary variables and their probabilities follow a Bernoulli distribution. \n",
    "    \n",
    "Multinomial Naive Bayes:  \n",
    "* It is commonly used for text classification, where features are word frequencies or counts.\n",
    "* It assumes that features represent the frequencies or counts of events.\n",
    "\"\"\""
   ]
  },
  {
   "cell_type": "code",
   "execution_count": null,
   "id": "fa76057f-cdf2-4040-8557-173bb1a8a52f",
   "metadata": {},
   "outputs": [],
   "source": [
    "#Q3. How does Bernoulli Naive Bayes handle missing values?\n",
    "\"\"\"\n",
    "Bernoulli Naive Bayes handles missing values by considering them as absent (0) during classification. This means that if a feature's value is missing\n",
    "for a particular instance, it is treated as if the feature is not present or \"off\" (assigned a value of 0).\n",
    "\"\"\""
   ]
  },
  {
   "cell_type": "code",
   "execution_count": null,
   "id": "c377e7dd-83f9-4aa4-9438-a026981b4a57",
   "metadata": {},
   "outputs": [],
   "source": [
    "#Q4. Can Gaussian Naive Bayes be used for multi-class classification?\n",
    "\"\"\"\n",
    "\n",
    "Yes, Gaussian Naive Bayes can be used for multi-class classification. It is a variant of Naive Bayes that assumes the features follow a Gaussian \n",
    "distribution. Although it is often used for binary classification problems, it can be extended to handle multi-class classification tasks as well.\n",
    "\"\"\""
   ]
  },
  {
   "cell_type": "code",
   "execution_count": 1,
   "id": "6cd3bd66-020f-4347-87b6-a38eb7e2c06e",
   "metadata": {},
   "outputs": [],
   "source": [
    "#Q5. Download the \"Spambase Data Set\" from the UCI Machine Learning Repository (https://archive.ics.uci.edu/ml/datasets/Spambase). \n",
    "#    This dataset contains email messages, where the goal is to predict whether a message is spam or not based on several input features.\n",
    "\n",
    "#    Implementation: Implement Bernoulli Naive Bayes, Multinomial Naive Bayes, and Gaussian Naive Bayes classifiers using the scikit-learn library in \n",
    "#       Python. Use 10-fold cross-validation to evaluate the performance of each classifier on the dataset. You should use the default hyperparameters\n",
    "#       for each classifier.\n",
    "\n",
    "#    Results:Report the following performance metrics for each classifier: Accuracy, Precision, Recall, F1 score\n",
    "\n",
    "#    Discussion:Discuss the results you obtained. Which variant of Naive Bayes performed the best? Why do you think that is the case? Are there any \n",
    "#       limitations of Naive Bayes that you observed?\n",
    "\n",
    "#    Conclusion: Summarise your findings and provide some suggestions for future work."
   ]
  },
  {
   "cell_type": "code",
   "execution_count": 2,
   "id": "c797ccb8-134f-4909-b317-1e20ddf88b6e",
   "metadata": {},
   "outputs": [],
   "source": [
    "import warnings\n",
    "warnings.filterwarnings('ignore')\n",
    "\n",
    "# Import dataset\n",
    "import pandas as pd\n",
    "df=pd.read_csv(\"spambase.csv\")\n",
    "\n",
    "# Independent & dependent Feature\n",
    "x=df.iloc[:,:-1]\n",
    "y=df.iloc[:,-1:]\n",
    "\n",
    "# Split into train & test data \n",
    "from sklearn.model_selection import train_test_split\n",
    "x_train,x_test,y_train,y_test=train_test_split(x,y,test_size=0.30,random_state=42)\n",
    "\n",
    "# Model Training\n",
    "from sklearn.naive_bayes import BernoulliNB\n",
    "bnb=BernoulliNB()\n",
    "bnb.fit(x_train,y_train)\n",
    "\n",
    "from sklearn.naive_bayes import MultinomialNB\n",
    "mnb=MultinomialNB()\n",
    "mnb.fit(x_train,y_train)\n",
    "\n",
    "from sklearn.naive_bayes import GaussianNB\n",
    "gnb=GaussianNB()\n",
    "gnb.fit(x_train,y_train)\n",
    "\n",
    "# prediction\n",
    "bnb_y_pred=bnb.predict(x_test)\n",
    "mnb_y_pred=mnb.predict(x_test)\n",
    "gnb_y_pred=gnb.predict(x_test)"
   ]
  },
  {
   "cell_type": "code",
   "execution_count": 59,
   "id": "f74e9330-a3d2-4b66-82e8-a0276167de3f",
   "metadata": {},
   "outputs": [
    {
     "name": "stdout",
     "output_type": "stream",
     "text": [
      "Classifier: BernoulliNB\n",
      " Accuracy: 0.8790731354091238\n",
      " Precision: 0.8128249566724437\n",
      " Recall: 0.8882575757575758\n",
      " F1 Score: 0.848868778280543\n",
      "\n",
      "Classifier: MultinomialNB\n",
      " Accuracy: 0.782041998551774\n",
      " Precision: 0.6949740034662045\n",
      " Recall: 0.7623574144486692\n",
      " F1 Score: 0.7271078875793291\n",
      "\n",
      "Classifier: GaussianNB\n",
      " Accuracy: 0.8247646632874729\n",
      " Precision: 0.9480069324090121\n",
      " Recall: 0.7206851119894598\n",
      " F1 Score: 0.8188622754491017\n",
      "\n"
     ]
    }
   ],
   "source": [
    "# Performance metrics for each classifier: Accuracy, Precision, Recall, F1 score\n",
    "from sklearn.metrics import accuracy_score,precision_score,recall_score,f1_score\n",
    "classifiers = [bnb, mnb, gnb]\n",
    "pred=[bnb_y_pred,mnb_y_pred,gnb_y_pred]\n",
    "\n",
    "for i,j in enumerate(pred):\n",
    "    print(f\"Classifier: {classifiers[i].__class__.__name__}\")\n",
    "    print(f\" Accuracy: {accuracy_score(j,y_test)}\")\n",
    "    print(f\" Precision: {precision_score(j,y_test)}\")\n",
    "    print(f\" Recall: {recall_score(j,y_test)}\")\n",
    "    print(f\" F1 Score: {f1_score(j,y_test)}\")\n",
    "    print()"
   ]
  },
  {
   "cell_type": "code",
   "execution_count": 60,
   "id": "c9d22116-9c88-420a-ba79-6929ebe97c59",
   "metadata": {},
   "outputs": [
    {
     "name": "stdout",
     "output_type": "stream",
     "text": [
      "Classifier: BernoulliNB\n",
      " Mean Accuracy: 0.8852461567480902\n",
      "\n",
      "Classifier: MultinomialNB\n",
      " Mean Accuracy: 0.7913543336791474\n",
      "\n",
      "Classifier: GaussianNB\n",
      " Mean Accuracy: 0.8209054041309063\n",
      "\n"
     ]
    }
   ],
   "source": [
    "#10-fold cross-validation to evaluate the performance of each classifier\n",
    "from sklearn.model_selection import KFold\n",
    "kf = KFold(n_splits=10, shuffle=True, random_state=42)  # Initialize KFold with 10 splits\n",
    "\n",
    "\n",
    "from sklearn.model_selection import cross_val_score\n",
    "classifiers = [bnb, mnb, gnb]\n",
    "results = []\n",
    "\n",
    "for clf in classifiers:\n",
    "    cv_scores = cross_val_score(clf, x, y, cv=kf)  # Perform cross-validation\n",
    "    results.append(cv_scores)\n",
    "\n",
    "import numpy as np\n",
    "for i, clf in enumerate(classifiers):\n",
    "    print(f\"Classifier: {clf.__class__.__name__}\")\n",
    "    print(f\" Mean Accuracy: {np.mean(results[i])}\")\n",
    "    print()"
   ]
  },
  {
   "cell_type": "code",
   "execution_count": null,
   "id": "1d29c342-b5d2-473c-bcec-2b68d8590bb5",
   "metadata": {},
   "outputs": [],
   "source": []
  }
 ],
 "metadata": {
  "kernelspec": {
   "display_name": "Python 3 (ipykernel)",
   "language": "python",
   "name": "python3"
  },
  "language_info": {
   "codemirror_mode": {
    "name": "ipython",
    "version": 3
   },
   "file_extension": ".py",
   "mimetype": "text/x-python",
   "name": "python",
   "nbconvert_exporter": "python",
   "pygments_lexer": "ipython3",
   "version": "3.10.8"
  }
 },
 "nbformat": 4,
 "nbformat_minor": 5
}
