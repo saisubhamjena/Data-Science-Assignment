{
 "cells": [
  {
   "cell_type": "code",
   "execution_count": null,
   "id": "2e3340d8-4bab-4356-8b75-49f0f22eb1c2",
   "metadata": {},
   "outputs": [],
   "source": [
    "#Q1. List any five functions of the pandas library with execution.\n",
    "\"\"\"\n",
    "1.read_csv: This function reads data from a CSV file and returns a DataFrame object.\n",
    "2.head: This function returns the first n rows of a DataFrame object.\n",
    "3.groupby: This function groups data in a DataFrame object based on one or more columns and applies a specified function to each group.\n",
    "4.merge: This function combines two DataFrame objects into a single DataFrame based on a common column or index.\n",
    "5.Categorical: shows the counts of unique categories\n",
    "\"\"\""
   ]
  },
  {
   "cell_type": "code",
   "execution_count": 16,
   "id": "e30351ac-f2c8-45c3-a43d-f61508a217bf",
   "metadata": {},
   "outputs": [
    {
     "data": {
      "text/html": [
       "<div>\n",
       "<style scoped>\n",
       "    .dataframe tbody tr th:only-of-type {\n",
       "        vertical-align: middle;\n",
       "    }\n",
       "\n",
       "    .dataframe tbody tr th {\n",
       "        vertical-align: top;\n",
       "    }\n",
       "\n",
       "    .dataframe thead th {\n",
       "        text-align: right;\n",
       "    }\n",
       "</style>\n",
       "<table border=\"1\" class=\"dataframe\">\n",
       "  <thead>\n",
       "    <tr style=\"text-align: right;\">\n",
       "      <th></th>\n",
       "      <th>A</th>\n",
       "      <th>B</th>\n",
       "      <th>C</th>\n",
       "    </tr>\n",
       "  </thead>\n",
       "  <tbody>\n",
       "    <tr>\n",
       "      <th>1</th>\n",
       "      <td>1</td>\n",
       "      <td>4</td>\n",
       "      <td>7</td>\n",
       "    </tr>\n",
       "    <tr>\n",
       "      <th>3</th>\n",
       "      <td>2</td>\n",
       "      <td>5</td>\n",
       "      <td>8</td>\n",
       "    </tr>\n",
       "    <tr>\n",
       "      <th>5</th>\n",
       "      <td>3</td>\n",
       "      <td>6</td>\n",
       "      <td>9</td>\n",
       "    </tr>\n",
       "  </tbody>\n",
       "</table>\n",
       "</div>"
      ],
      "text/plain": [
       "   A  B  C\n",
       "1  1  4  7\n",
       "3  2  5  8\n",
       "5  3  6  9"
      ]
     },
     "execution_count": 16,
     "metadata": {},
     "output_type": "execute_result"
    }
   ],
   "source": [
    "#Q2. Given a Pandas DataFrame df with columns 'A', 'B', and 'C', write a Python function to re-index the DataFrame with a new index that starts from \n",
    "#    1 and increments by 2 for each row.\n",
    "\n",
    "import pandas as pd\n",
    "\n",
    "def reindex_df(df):\n",
    "\n",
    "    new_index = pd.RangeIndex(start=1, stop=len(df)*2, step=2) \n",
    "    new_df = df.set_index(new_index)\n",
    "    return new_df\n",
    "\n",
    "df=pd.DataFrame({\"A\":[1,2,3],\"B\":[4,5,6],\"C\":[7,8,9]})\n",
    "\n",
    "reindex_df(df)\n"
   ]
  },
  {
   "cell_type": "code",
   "execution_count": 32,
   "id": "75ca8dd0-9b9a-478b-a759-b3a498fcca98",
   "metadata": {},
   "outputs": [
    {
     "name": "stdout",
     "output_type": "stream",
     "text": [
      "The sum of first 3 values is 60\n"
     ]
    }
   ],
   "source": [
    "#Q3. You have a Pandas DataFrame df with a column named 'Values'. Write a Python function that iterates over the DataFrame and calculates the sum of \n",
    "#    the first three values in the 'Values' column. The function should print the sum to the console.For example, if the 'Values' column of df \n",
    "#    contains the values [10, 20, 30, 40, 50], your function should calculate and print the sum of the first three values, which is 60.\n",
    "\n",
    "import pandas as pd\n",
    "\n",
    "df=pd.DataFrame({'Values':[10, 20, 30, 40, 50]})\n",
    "\n",
    "s=sum(list(df[\"Values\"][0:3]))\n",
    "\n",
    "print(\"The sum of first 3 values is\",s)"
   ]
  },
  {
   "cell_type": "code",
   "execution_count": 37,
   "id": "29bfcebf-9887-4323-b0be-0f2666740807",
   "metadata": {},
   "outputs": [
    {
     "name": "stdout",
     "output_type": "stream",
     "text": [
      "                    Text  Word_Count\n",
      "0  This is a sample text           5\n",
      "1   Another example text           3\n",
      "2       A third sentence           3\n"
     ]
    }
   ],
   "source": [
    "#Q4. Given a Pandas DataFrame df with a column 'Text', write a Python function to create a new column 'Word_Count' that contains the number of words \n",
    "#    in each row of the 'Text' column.index\n",
    "\n",
    "import pandas as pd\n",
    "\n",
    "df = pd.DataFrame({'Text': ['This is a sample text', 'Another example text', 'A third sentence']})\n",
    "\n",
    "\n",
    "def count_words(text):\n",
    "    return text.count(\" \")+1\n",
    "\n",
    "df['Word_Count'] = df['Text'].apply(count_words)\n",
    "\n",
    "print(df)\n"
   ]
  },
  {
   "cell_type": "code",
   "execution_count": null,
   "id": "9d49be70-f0fa-4e44-b6ae-316fa901decf",
   "metadata": {},
   "outputs": [],
   "source": [
    "#Q5. How are DataFrame.size() and DataFrame.shape() different?\n",
    "\"\"\"\n",
    "DataFrame.size() returns the total number of elements in the DataFrame. In other words, it returns the product of the number of rows and the number\n",
    "of columns in the DataFrame. This method does not take any arguments.\n",
    "\n",
    "DataFrame.shape() returns a tuple representing the dimensions of the DataFrame. The first element of the tuple is the number of rows, and the second\n",
    "element is the number of columns. This method does not take any arguments.\n",
    "\"\"\""
   ]
  },
  {
   "cell_type": "code",
   "execution_count": null,
   "id": "078c8050-83a1-431d-9fca-2e2aec8a170f",
   "metadata": {},
   "outputs": [],
   "source": [
    "#Q6. Which function of pandas do we use to read an excel file?\n",
    "\"\"\"\n",
    "pd.read_excel() is use read an excel file in pandas\n",
    "\"\"\""
   ]
  },
  {
   "cell_type": "code",
   "execution_count": 42,
   "id": "8cacbfd8-d074-4648-821f-5bef00976869",
   "metadata": {},
   "outputs": [
    {
     "name": "stdout",
     "output_type": "stream",
     "text": [
      "                     Email       Username\n",
      "0     john.doe@example.com       john.doe\n",
      "1  saisubhamjena@gmail.com  saisubhamjena\n",
      "2       pwskills@yahoo.com       pwskills\n"
     ]
    }
   ],
   "source": [
    "#Q7. You have a Pandas DataFrame df that contains a column named 'Email' that contains email addresses in the format 'username@domain.com'. Write a\n",
    "#    Python function that creates a new column 'Username' in df that contains only the username part of each email address.The username is the part \n",
    "#    of the email address that appears before the '@' symbol. For example, if the email address is 'john.doe@example.com', the 'Username' column \n",
    "#    should contain 'john.doe'. Your function should extract the username from each email address and store it in the new 'Username' column.\n",
    "\n",
    "import pandas as pd\n",
    "\n",
    "df = pd.DataFrame({'Email': ['john.doe@example.com', 'saisubhamjena@gmail.com', 'pwskills@yahoo.com']})\n",
    "\n",
    "def sep_un(text):\n",
    "    return text.split(\"@\")[0]\n",
    "\n",
    "df[\"Username\"]=df[\"Email\"].apply(sep_un)\n",
    "\n",
    "print(df)\n"
   ]
  },
  {
   "cell_type": "code",
   "execution_count": 47,
   "id": "6adb8897-2a6f-43e3-8a49-c58dfb909ed2",
   "metadata": {},
   "outputs": [
    {
     "data": {
      "text/html": [
       "<div>\n",
       "<style scoped>\n",
       "    .dataframe tbody tr th:only-of-type {\n",
       "        vertical-align: middle;\n",
       "    }\n",
       "\n",
       "    .dataframe tbody tr th {\n",
       "        vertical-align: top;\n",
       "    }\n",
       "\n",
       "    .dataframe thead th {\n",
       "        text-align: right;\n",
       "    }\n",
       "</style>\n",
       "<table border=\"1\" class=\"dataframe\">\n",
       "  <thead>\n",
       "    <tr style=\"text-align: right;\">\n",
       "      <th></th>\n",
       "      <th>A</th>\n",
       "      <th>B</th>\n",
       "      <th>C</th>\n",
       "    </tr>\n",
       "  </thead>\n",
       "  <tbody>\n",
       "    <tr>\n",
       "      <th>1</th>\n",
       "      <td>8</td>\n",
       "      <td>2</td>\n",
       "      <td>7</td>\n",
       "    </tr>\n",
       "    <tr>\n",
       "      <th>2</th>\n",
       "      <td>6</td>\n",
       "      <td>9</td>\n",
       "      <td>4</td>\n",
       "    </tr>\n",
       "    <tr>\n",
       "      <th>4</th>\n",
       "      <td>9</td>\n",
       "      <td>1</td>\n",
       "      <td>2</td>\n",
       "    </tr>\n",
       "  </tbody>\n",
       "</table>\n",
       "</div>"
      ],
      "text/plain": [
       "   A  B  C\n",
       "1  8  2  7\n",
       "2  6  9  4\n",
       "4  9  1  2"
      ]
     },
     "execution_count": 47,
     "metadata": {},
     "output_type": "execute_result"
    }
   ],
   "source": [
    "#Q8. You have a Pandas DataFrame df with columns 'A', 'B', and 'C'. Write a Python function that selects all rows where the value in column 'A' is \n",
    "#    greater than 5 and the value in column 'B' is less than 10. The function should return a new DataFrame that contains only the selected rows.\n",
    "#    For example, if df contains the following values:\n",
    "#      A B C\n",
    "#    0 3 5 1\n",
    "#    1 8 2 7\n",
    "#    2 6 9 4\n",
    "#    3 2 3 5\n",
    "#    4 9 1 2\n",
    "#    Your function should select the following rows: \n",
    "#      A B C\n",
    "#    1 8 2 7\n",
    "#    2 6 9 4\n",
    "#    4 9 1 2\n",
    "#   The function should return a new DataFrame that contains only the selected rows.\n",
    "\n",
    "\n",
    "import pandas as pd\n",
    "\n",
    "df=pd.DataFrame({\"A\":[3,8,6,2,9],\"B\":[5,2,9,3,1],\"C\":[1,7,4,5,2]})\n",
    "\n",
    "def selected_row(df):\n",
    "    return df[(df[\"A\"]>5) & (df[\"B\"]<10)]\n",
    "\n",
    "selected_row(df)"
   ]
  },
  {
   "cell_type": "code",
   "execution_count": null,
   "id": "1d106888-7c40-4ef4-9cd2-0378370669c4",
   "metadata": {},
   "outputs": [],
   "source": [
    "#Q9. Given a Pandas DataFrame df with a column 'Values', write a Python function to calculate the mean,median, and standard deviation of the values \n",
    "#    in the 'Values' column.\n",
    "\n",
    "import pandas as pd\n",
    "\n",
    "def calculate_stats(df):\n",
    "    mean = df['Values'].mean()\n",
    "    median = df['Values'].median()\n",
    "    std_dev = df['Values'].std()\n",
    "    \n",
    "    return mean, median, std_dev"
   ]
  },
  {
   "cell_type": "code",
   "execution_count": 48,
   "id": "a2320749-b3dc-4f3b-b02e-ad761c345580",
   "metadata": {},
   "outputs": [],
   "source": [
    "#Q10. Given a Pandas DataFrame df with a column 'Sales' and a column 'Date', write a Python function to create a new column 'MovingAverage' that \n",
    "#     contains the moving average of the sales for the past 7 days for each row in the DataFrame. The moving average should be calculated using a \n",
    "#     window of size 7 and should include the current day.\n",
    "\n",
    "import pandas as pd\n",
    "\n",
    "def moving_avg(df):\n",
    "    df['MovingAverage'] = df['Sales'].rolling(window=7, min_periods=1).mean()\n",
    "    return df"
   ]
  },
  {
   "cell_type": "code",
   "execution_count": 67,
   "id": "519e2cd8-a078-4072-9e5d-8dd312e780ed",
   "metadata": {},
   "outputs": [
    {
     "name": "stdout",
     "output_type": "stream",
     "text": [
      "        Date    Weekday\n",
      "0 2023-01-01     Sunday\n",
      "1 2023-01-02     Monday\n",
      "2 2023-01-03    Tuesday\n",
      "3 2023-01-04  Wednesday\n",
      "4 2023-01-05   Thursday\n"
     ]
    }
   ],
   "source": [
    "#Q11. You have a Pandas DataFrame df with a column 'Date'. Write a Python function that creates a new column 'Weekday' in the DataFrame. The 'Weekday'\n",
    "#     column should contain the weekday name (e.g. Monday, Tuesday) corresponding to each date in the 'Date' column.\n",
    "#     For example, if df contains the following values:\n",
    "#         Date\n",
    "#     0 2023-01-01\n",
    "#     1 2023-01-02\n",
    "#     2 2023-01-03\n",
    "#     3 2023-01-04\n",
    "#     4 2023-01-05\n",
    "#    Your function should create the following DataFrame:\n",
    "#        Date Weekday\n",
    "#     0 2023-01-01 Sunday\n",
    "#     1 2023-01-02 Monday\n",
    "#     2 2023-01-03 Tuesday\n",
    "#     3 2023-01-04 Wednesday\n",
    "#     4 2023-01-05 Thursday\n",
    "#    The function should return the modified DataFrame.\n",
    "\n",
    "import pandas as pd\n",
    "\n",
    "df = pd.DataFrame({'Date':['2023-01-01','2023-01-02','2023-01-03','2023-01-04','2023-01-05']}) \n",
    "\n",
    "df['Date']=pd.to_datetime(df['Date'])\n",
    "df['Weekday'] = df['Date'].dt.day_name()\n",
    "\n",
    "print(df)"
   ]
  },
  {
   "cell_type": "code",
   "execution_count": null,
   "id": "26175f38-61d8-46a9-8330-080f2d8efb30",
   "metadata": {},
   "outputs": [],
   "source": [
    "#Q12. Given a Pandas DataFrame df with a column 'Date' that contains timestamps, write a Python function to select all rows where the date is between\n",
    "#     '2023-01-01' and '2023-01-31'.\n",
    "\n",
    "import pandas as pd\n",
    "\n",
    "def select_date_range(df):\n",
    "    start_date = pd.to_datetime('2023-01-01')\n",
    "    end_date = pd.to_datetime('2023-01-31')\n",
    "    \n",
    "    mask = (df['Date'] >= start_date) & (df['Date'] <= end_date)\n",
    "    return df.loc[mask]\n"
   ]
  },
  {
   "cell_type": "code",
   "execution_count": null,
   "id": "8d9b1e16-ab92-4d90-8333-19b00629f820",
   "metadata": {},
   "outputs": [],
   "source": [
    "#Q13. To use the basic functions of pandas, what is the first and foremost necessary library that needs to be imported?\n",
    "\n",
    "\"\"\"\n",
    "The first and foremost necessary library that needs to be imported to use the basic functions of pandas is pandas itself.\n",
    "import pandas as pd\n",
    "\"\"\""
   ]
  },
  {
   "cell_type": "code",
   "execution_count": null,
   "id": "2c272c6e-baf2-4693-aac4-cb07cca0724a",
   "metadata": {},
   "outputs": [],
   "source": []
  },
  {
   "cell_type": "code",
   "execution_count": null,
   "id": "8646d229-6f64-4230-a932-734d5cc1dbd3",
   "metadata": {},
   "outputs": [],
   "source": []
  }
 ],
 "metadata": {
  "kernelspec": {
   "display_name": "Python 3 (ipykernel)",
   "language": "python",
   "name": "python3"
  },
  "language_info": {
   "codemirror_mode": {
    "name": "ipython",
    "version": 3
   },
   "file_extension": ".py",
   "mimetype": "text/x-python",
   "name": "python",
   "nbconvert_exporter": "python",
   "pygments_lexer": "ipython3",
   "version": "3.10.8"
  }
 },
 "nbformat": 4,
 "nbformat_minor": 5
}
