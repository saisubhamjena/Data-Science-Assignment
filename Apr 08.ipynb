{
 "cells": [
  {
   "cell_type": "code",
   "execution_count": null,
   "id": "82d66d24-21ef-4bfb-a0d2-440abc40193b",
   "metadata": {},
   "outputs": [],
   "source": [
    "#Q1. In order to predict house price based on several characteristics, such as location, square footage, number of bedrooms, etc., you are developing \n",
    "#    an SVM regression model. Which regression metric in this situation would be the best to employ?\n",
    "\"\"\"\n",
    "Here the Mean Squared Error (MSE) will be the best regression metric to employ.\n",
    "MSE measures the average squared difference between the predicted and actual values. By squaring the errors, it places more emphasis on larger errors,\n",
    "which can be particularly important when your goal is to prioritize accuracy in predicting house prices. Minimizing MSE encourages the model to make \n",
    "predictions that are as close as possible to the actual prices.\n",
    "\"\"\""
   ]
  },
  {
   "cell_type": "code",
   "execution_count": null,
   "id": "39cf114c-6448-4f33-b7b4-0232fccf55fc",
   "metadata": {},
   "outputs": [],
   "source": [
    "#Q2. You have built an SVM regression model and are trying to decide between using MSE or R-squared as your evaluation metric. Which metric would be \n",
    "#    more appropriate if your goal is to predict the actual price of a house as accurately as possible?\n",
    "\"\"\"\n",
    "If your goal is to predict the actual price of a house as accurately as possible,it is crucial to minimize the overall prediction errors and provide \n",
    "accurate estimates. the Mean Squared Error (MSE) would be the more appropriate evaluation metric because it measures the average squared difference \n",
    "between the predicted and actual values. By squaring the errors, MSE places more emphasis on larger errors, effectively penalizing them more. \n",
    "MSE, by considering both the direction and magnitude of errors, allows you to assess the model's performance in terms of the closeness of predictions \n",
    "to the actual prices\n",
    "\n",
    "R-squared, on the other hand, measures the proportion of the variance in the target variable that is explained by the model. While R-squared provides\n",
    "a measure of how well the model fits the data, it does not directly quantify the accuracy of individual predictions.\n",
    "\"\"\""
   ]
  },
  {
   "cell_type": "code",
   "execution_count": null,
   "id": "0e34238b-5536-440e-a85e-1d53d1af5ccf",
   "metadata": {},
   "outputs": [],
   "source": [
    "#Q3. You have a dataset with a significant number of outliers and are trying to select an appropriate regression metric to use with your SVM model. \n",
    "#    Which metric would be the most appropriate in this scenario?\n",
    "\"\"\"\n",
    "Here the most appropriate metric would be Mean Absolute Error (MAE) as it is less sensitive to outliers.\n",
    "\n",
    "It's important to keep in mind that even though this metrics is less sensitive to outliers, addressing outliers during the data preprocessing phase\n",
    "or considering robust regression techniques might still be beneficial to improve the model's performance in the presence of outliers.\n",
    "\"\"\""
   ]
  },
  {
   "cell_type": "code",
   "execution_count": null,
   "id": "95d214e1-dc66-4860-8f83-f26722b7dc56",
   "metadata": {},
   "outputs": [],
   "source": [
    "#Q4. You have built an SVM regression model using a polynomial kernel and are trying to select the best metric to evaluate its performance. You have \n",
    "#    calculated both MSE and RMSE and found that both values are very close. Which metric should you choose to use in this case?\n",
    "\"\"\"\n",
    "In this case it is generally recommended to use the RMSE as the evaluation metric. Here's why:\n",
    "\n",
    "1. RMSE is the square root of MSE and provides a more interpretable metric in the same units as the target variable. By taking the square root, \n",
    "   RMSE scales the errors back to the original unit of the target variable, making it easier to understand and compare the magnitude of errors.\n",
    "\n",
    "2. RMSE has the advantage of being more interpretable as it reflects the average magnitude of the prediction errors in the original units of the \n",
    "   target variable. This makes it more intuitive for assessing the practical significance of the errors in the context of house prices.\n",
    "\"\"\""
   ]
  },
  {
   "cell_type": "code",
   "execution_count": null,
   "id": "258f6e34-514d-4372-a580-ae28b5c05724",
   "metadata": {},
   "outputs": [],
   "source": [
    "#Q5. You are comparing the performance of different SVM regression models using different kernels (linear,polynomial and RBF) and are trying to select\n",
    "#    the best evaluation metric. Which metric would be most appropriate if your goal is to measure how well the model explains the variance in the \n",
    "#    target variable?\n",
    "\"\"\"\n",
    "Here the most appropriate evaluation metric to use is the R-squared (R²). By using R-squared, you can assess and compare the performance of different\n",
    "SVM regression models with different kernels (linear, polynomial, and RBF) in terms of their ability to explain the variance in the target variable. \n",
    "A higher R-squared value suggests that the model captures more of the underlying variability, indicating a better fit and a stronger explanatory power\n",
    "\"\"\""
   ]
  }
 ],
 "metadata": {
  "kernelspec": {
   "display_name": "Python 3 (ipykernel)",
   "language": "python",
   "name": "python3"
  },
  "language_info": {
   "codemirror_mode": {
    "name": "ipython",
    "version": 3
   },
   "file_extension": ".py",
   "mimetype": "text/x-python",
   "name": "python",
   "nbconvert_exporter": "python",
   "pygments_lexer": "ipython3",
   "version": "3.10.8"
  }
 },
 "nbformat": 4,
 "nbformat_minor": 5
}
