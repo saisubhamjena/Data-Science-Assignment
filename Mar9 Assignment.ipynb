{
 "cells": [
  {
   "cell_type": "code",
   "execution_count": 2,
   "id": "a7da9e6b-dbf2-4510-ab90-80fd8c390c70",
   "metadata": {},
   "outputs": [],
   "source": [
    "#Q1: What are the Probability Mass Function (PMF) and Probability Density Function (PDF)? Explain with an example.\n",
    "\n",
    "\"\"\"\n",
    "Probability Mass Function (PMF) is a function which gives the probability of a discrete random variable that is exactly equat to some value.\n",
    "Random variable X takes a particulat value x\n",
    "P(X = xi) = pi (where pi is the probability that X takes on the value xi)\n",
    "Ex: Rolling of a six sideed die. Here P(X=1)=1/6 (prob. of getting 1 on the face of die)\n",
    "\n",
    "Probability Density Function (PDF) describes the relative likelihood of a random variable taking on a certain value.\n",
    "let X be a continuous random variable with a PDF f(x), for any interval [a,b], the probability that X takes on a value in that interval is given by:\n",
    "P(a <= X <= b) = integral from a to b of f(x) dx\n",
    "Ex: For example, let's consider the height of adult males in a certain population. Suppose the distribution of height follows a normal distribution\n",
    "    with a mean of 175 cm and a standard deviation of 6 cm.\n",
    "\"\"\""
   ]
  },
  {
   "cell_type": "code",
   "execution_count": null,
   "id": "8c9964fe-ce50-401e-999e-fc58eacab0cc",
   "metadata": {},
   "outputs": [],
   "source": [
    "#Q2: What is Cumulative Density Function (CDF)? Explain with an example. Why CDF is used?\n",
    "\"\"\"\n",
    "A Cumulative Density Function (CDF) is a mathematical function that describes the cumulative probability of a random variable taking on a value \n",
    "less than or equal to a given value.\n",
    "Ex: In rolling of a fair die ,if we want to calculate the CDF of getting more than 1 and less than equal to 3 \n",
    "    Pr(1<x<=3) = pr(x=2)+pr(x=3)\n",
    "               = 1/6+1/6\n",
    "               = 2/6\n",
    "\n",
    "CDF is used in:\n",
    "1.Probability calculations: CDF can be used to calculate the probability of a random variable taking on a value within a certain range. \n",
    "  For example, if you want to know the probability that a stock price will be below a certain price on a certain day.\n",
    "2.Comparison of distributions: CDF can be used to compare different probability distributions. \n",
    "  For example, you can compare the CDFs of two different stocks to see which one has a higher probability of being profitable.\n",
    "3.Modeling: CDF is a useful tool in modeling various phenomena. \n",
    "  For example, in physics, the CDF of a particle's position can be used to predict its behavior.\n",
    "4.Statistical inference: CDF can be used in statistical inference to estimate the parameters of a probability distribution.\n",
    "  i.e to estimate the mean and variance of a normal distribution.\n",
    "\"\"\""
   ]
  },
  {
   "cell_type": "code",
   "execution_count": null,
   "id": "0d405b72-696f-4f08-84a8-0d86a1515dee",
   "metadata": {},
   "outputs": [],
   "source": [
    "#Q3: What are some examples of situations where the normal distribution might be used as a model?\n",
    "#    Explain how the parameters of the normal distribution relate to the shape of the distribution.\n",
    "\"\"\"\n",
    "The normal distribution is used to model a variety of real-world situations.\n",
    "1. Height and weight of a population\n",
    "2. Test score of a class\n",
    "\n",
    "Normal distribution is characterised by two parameters mean and standard deviation determine the center and spread of the distribution, respectively.\n",
    "The shape of this distribution is symmetric bell curve where mean is the heighest point and as SD increased the curve become wider and flatter and if\n",
    "SD decrease curve becomes narrower.\n",
    "\"\"\""
   ]
  },
  {
   "cell_type": "code",
   "execution_count": null,
   "id": "8f310978-fa17-4d1f-ba70-5e44cc0a6fba",
   "metadata": {},
   "outputs": [],
   "source": [
    "#Q4: Explain the importance of Normal Distribution. Give a few real-life examples of Normal Distribution.\n",
    "\"\"\"\n",
    "The importance of normal distribution lies in the fact that many real-world phenomena can be modeled using this distribution. \n",
    "It has a wide range of applications in various fields such as finance, engineering, physics, social sciences, and many others. \n",
    "\n",
    "Here are some reasons why the normal distribution is important:\n",
    "1.Data Analysis: Normal distribution provides a framework for analyzing data by providing a standardized way of describing the data\n",
    "2.Prediction:Normal distribution is useful for making predictions.It can be used to model the probability of an event occurring within a certain range\n",
    "3.Central limit theorem: This is important because it allows us to make inferences about a population based on a sample of the population.\n",
    "4.Machine Learning: Normal distribution is often used as a prior distribution in Bayesian machine learning models. It is also used as a basis for\n",
    "  many clustering algorithms, such as Gaussian Mixture Models.\n",
    "  \n",
    "Real-life examples of Normal Distribution:\n",
    "1. Height and weight of a population\n",
    "2. Scores on standardized tests\n",
    "3. Stock prices\n",
    "4. Body temperature\n",
    "\"\"\""
   ]
  },
  {
   "cell_type": "code",
   "execution_count": null,
   "id": "59172e62-4d5f-4716-b730-dbae7cad0833",
   "metadata": {},
   "outputs": [],
   "source": [
    "#Q5: What is Bernaulli Distribution? Give an Example. What is the difference between Bernoulli Distribution and Binomial Distribution?\n",
    "\"\"\"\n",
    "Bernoulli distribution is a discrete probability distribution that represents the probability of success or failure of a single trial of a binary event.\n",
    "Ex:flipping a coin can be modeled using a Bernoulli distribution, where the probability of getting heads can be denoted as 1, and the probability of\n",
    "   getting tails is 0.\n",
    "The Bernoulli distribution can be written as:\n",
    "P(X=1) = p\n",
    "P(X=0) = 1-p\n",
    "\n",
    "The main difference between Bernoulli distribution and binomial distribution is that:\n",
    "Bernoulli distribution models the outcome of a single trial, while the Binomial models the outcome of multiple independent Bernoulli trials.\n",
    "For example, if you flip a coin 10 times, the number of times you get heads can be modeled using a binomial distribution.\n",
    "\"\"\""
   ]
  },
  {
   "cell_type": "code",
   "execution_count": null,
   "id": "7f4b014b-a509-4ff1-96e1-ad06cccfef18",
   "metadata": {},
   "outputs": [],
   "source": [
    "#Q6. Consider a dataset with a mean of 50 and a standard deviation of 10. If we assume that the dataset is normally distributed, what is the \n",
    "#    probability that a randomly selected observation will be greater than 60? Use the appropriate formula and show your calculations.\n",
    "\"\"\"\n",
    "x is the value we want to standardize (x = 60)\n",
    "μ is the mean of the dataset (μ = 50)\n",
    "σ is the standard deviation of the dataset (σ = 10).\n",
    "\n",
    "The formula for the z-score is: z = (x - μ) / σ\n",
    "\n",
    "z = (60 - 50) / 10\n",
    "z = 1\n",
    "So, the standardized value of 60 is 1 standard deviation above the mean.\n",
    "\n",
    "Next, we need to find the area under the standard normal curve to the right of this z-score.\n",
    "\n",
    "i.e. P(z > 1) = 1 - P(z ≤ 1)\n",
    "\n",
    "P(z ≤ 1) = 0.8413 (from z-table)\n",
    "\n",
    "P(z > 1) = 1 - 0.8413\n",
    "P(z > 1) = 0.1587\n",
    "\n",
    "So, the probability that a randomly selected observation from this dataset will be greater than 60 is 0.1587 or approximately 16%.\n",
    "\"\"\""
   ]
  },
  {
   "cell_type": "code",
   "execution_count": null,
   "id": "ea39900b-527d-49a5-8cce-180e7599e97e",
   "metadata": {},
   "outputs": [],
   "source": [
    "#Q7: Explain uniform Distribution with an example.\n",
    "\"\"\"\n",
    "A uniform distribution states that the probability of any event occurring within a range of possible outcomes is the same as any other event within \n",
    "the same range.\n",
    "\n",
    "For example, imagine rolling a fair six-sided die. Each number on the die (1, 2, 3, 4, 5, and 6) has an equal probability of appearing.\n",
    "The probability of rolling any one of the numbers is 1/6, since there are six possible outcomes, each of which is equally likely. \n",
    "\"\"\""
   ]
  },
  {
   "cell_type": "code",
   "execution_count": null,
   "id": "fb81bb56-d991-461e-a535-ca8252ea3079",
   "metadata": {},
   "outputs": [],
   "source": [
    "#Q8: What is the z score? State the importance of the z score.\n",
    "\"\"\"\n",
    "z-score is statistical measure that denoted how many standard deviation does the given point is from the mean of the data set.\n",
    "\n",
    "The importance of the z-score: \n",
    "1. Its ability to standardize data, allowing for meaningful comparisons between different data sets.\n",
    "2. It enables us to determine how unusual or typical a particular data point is relative to the rest of the data.\n",
    "3. The z-score can also be used to calculate the probability of a particular value occurring in a normal distribution.\n",
    "4. It helps in identifying outliers, determining whether a particular value is within or outside the normal range.\n",
    "\"\"\""
   ]
  },
  {
   "cell_type": "code",
   "execution_count": null,
   "id": "fa229b4a-eeff-4451-95ee-41264d7ffddb",
   "metadata": {},
   "outputs": [],
   "source": [
    "#Q9: What is Central Limit Theorem? State the significance of the Central Limit Theorem.\n",
    "\"\"\"\n",
    "Central Limit Theorem: It states that as the sample size increases, the distribution of the sample means approaches a normal distribution, \n",
    "regardless of the underlying distribution of the individual data points.\n",
    "\n",
    "The significance of the Central Limit Theorem is that it provides a powerful tool for making inferences about a population based on a sample.\n",
    "For example, it allows us to estimate population parameters, such as the mean and standard deviation, based on a sample mean and standard deviation.\n",
    "\"\"\""
   ]
  },
  {
   "cell_type": "code",
   "execution_count": null,
   "id": "c841b5b5-898d-4668-8edf-519ec464122c",
   "metadata": {},
   "outputs": [],
   "source": [
    "#Q10: State the assumptions of the Central Limit Theorem.\n",
    "\"\"\"\n",
    "The assumptions of the Central Limit Theorem are:\n",
    "\n",
    "1.Independence: Each observation in the sample must be independent of one another. \n",
    "2.Sample size: The sample size should be sufficiently large.\n",
    "3.Finite variance: The population from which the sample is drawn must have a finite variance.\n",
    "4.Random sampling: The sample should be selected at random from the population of interest. \n",
    "\"\"\""
   ]
  }
 ],
 "metadata": {
  "kernelspec": {
   "display_name": "Python 3 (ipykernel)",
   "language": "python",
   "name": "python3"
  },
  "language_info": {
   "codemirror_mode": {
    "name": "ipython",
    "version": 3
   },
   "file_extension": ".py",
   "mimetype": "text/x-python",
   "name": "python",
   "nbconvert_exporter": "python",
   "pygments_lexer": "ipython3",
   "version": "3.10.8"
  }
 },
 "nbformat": 4,
 "nbformat_minor": 5
}
