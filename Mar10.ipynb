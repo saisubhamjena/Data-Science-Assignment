{
 "cells": [
  {
   "cell_type": "code",
   "execution_count": null,
   "id": "860b6ce8-ebea-4d18-8f20-0d5ccc40291b",
   "metadata": {},
   "outputs": [],
   "source": [
    "#Q1: What is Estimation Statistics? Explain point estimate and interval estimate.\n",
    "\"\"\"\n",
    "Estimation statistics is a branch of statistics that deals with the process of estimating an unknown quantity or parameter based on a sample of data.\n",
    "In estimation statistics, we use sample data to make inferences about a population.\n",
    "\n",
    "Point Estimate: A point estimate is a single value that is used to estimate an unknown parameter.\n",
    "                It is calculated using a sample statistic\n",
    "\n",
    "Interval Estimate: An interval estimate is a range of values that is used to estimate an unknown parameter. \n",
    "                   It is calculated using a sample statistic and a margin of error.\n",
    "\"\"\""
   ]
  },
  {
   "cell_type": "code",
   "execution_count": 1,
   "id": "3d77bd8c-635c-4bc6-a7ce-54fb3562ba43",
   "metadata": {},
   "outputs": [
    {
     "data": {
      "text/plain": [
       "10.282842712474618"
      ]
     },
     "execution_count": 1,
     "metadata": {},
     "output_type": "execute_result"
    }
   ],
   "source": [
    "#Q2. Write a Python function to estimate the population mean using a sample mean and standard deviation.\n",
    "\n",
    "import math\n",
    "\n",
    "def estimate_population_mean(s_u, s_sd, sample_size):\n",
    "   \n",
    "    std_error = s_sd / math.sqrt(sample_size)\n",
    "    pop_mean = s_u + std_error\n",
    "    \n",
    "    return pop_mean\n",
    "\n",
    "\n",
    "estimate_population_mean(10,2,50)"
   ]
  },
  {
   "cell_type": "code",
   "execution_count": null,
   "id": "64571671-2e20-442c-a51e-5d3d395daff7",
   "metadata": {},
   "outputs": [],
   "source": [
    "#Q3: What is Hypothesis testing? Why is it used? State the importance of Hypothesis testing.\n",
    "\"\"\"\n",
    "Hypothesis testing is a statistical method used to determine whether a statement about a population or a sample is likely to be true. \n",
    "It involves formulating a null hypothesis, which assumes that there is no significant difference between two groups or variables being compared, \n",
    "and an alternative hypothesis, which proposes that there is a difference.\n",
    "\n",
    "Hypothesis testing is used in a wide range of fields, including medicine, social sciences, business, and engineering, to make decisions based on \n",
    "statistical evidence.\n",
    "\n",
    "The importance of hypothesis testing lies in its ability to provide a way to make decisions based on data and evidence rather than intuition or \n",
    "guesswork. Researchers can draw valid conclusions about the population being studied. This can lead to more accurate predictions, better\n",
    "decision-making, and improved outcomes in a variety of fields.\n",
    "\"\"\""
   ]
  },
  {
   "cell_type": "code",
   "execution_count": null,
   "id": "94dbd62f-14e1-434f-b75f-9ff4a9d6a510",
   "metadata": {},
   "outputs": [],
   "source": [
    "#Q4.Create a hypothesis that states whether the average weight of male college students is greater than the average weight of female college students.\n",
    "\"\"\"\n",
    "Null Hypopthesis: Average weight of male college students is greater than female.\n",
    "Alternate Hypothesis: Average age of female college students is not greater than female.\n",
    "\"\"\""
   ]
  },
  {
   "cell_type": "code",
   "execution_count": 11,
   "id": "3509fad0-60a3-4d93-8310-a7d968804c53",
   "metadata": {},
   "outputs": [
    {
     "name": "stdout",
     "output_type": "stream",
     "text": [
      "Sample mean of population 1: 6.00\n",
      "Sample mean of population 2: 9.00\n",
      "Sample standard deviation of population 1: 3.16\n",
      "Sample standard deviation of population 2: 4.74\n",
      "t-statistic: -1.18\n",
      "p-value: 0.27\n",
      "p-value is greater than our chosen significance level (typically 0.05), we fail to reject the null hypothesis\n"
     ]
    }
   ],
   "source": [
    "#Q5. Write a Python script to conduct a hypothesis test on the difference between two population means,given a sample from each population.\n",
    "\n",
    "import numpy as np\n",
    "from scipy.stats import ttest_ind\n",
    "\n",
    "population1 = [2, 4, 6, 8, 10]\n",
    "population2 = [3, 6, 9, 12, 15]\n",
    "\n",
    "sample_mean1 = np.mean(population1)\n",
    "sample_mean2 = np.mean(population2)\n",
    "sample_std1 = np.std(population1, ddof=1)\n",
    "sample_std2 = np.std(population2, ddof=1)\n",
    "\n",
    "t_statistic, p_value = ttest_ind(population1, population2)\n",
    "\n",
    "print(\"Sample mean of population 1: {:.2f}\".format(sample_mean1))\n",
    "print(\"Sample mean of population 2: {:.2f}\".format(sample_mean2))\n",
    "print(\"Sample standard deviation of population 1: {:.2f}\".format(sample_std1))\n",
    "print(\"Sample standard deviation of population 2: {:.2f}\".format(sample_std2))\n",
    "print(\"t-statistic: {:.2f}\".format(t_statistic))\n",
    "print(\"p-value: {:.2f}\".format(p_value))\n",
    "\n",
    "if p_value<0.05:\n",
    "    print(\"p-value is less than our chosen significance level (typically 0.05), we reject the null hypothesis\")\n",
    "else:\n",
    "    print(\"p-value is greater than our chosen significance level (typically 0.05), we fail to reject the null hypothesis\")"
   ]
  },
  {
   "cell_type": "code",
   "execution_count": null,
   "id": "a1aaf56e-f42d-4573-9ac0-13e57fbab3a1",
   "metadata": {},
   "outputs": [],
   "source": [
    "#Q6: What is a null and alternative hypothesis? Give some examples.\n",
    "\"\"\"\n",
    "The null hypothesis is the statement that there is no difference or no effect between the two groups being compared.\n",
    "Ex: There is no significant relationship between a student's GPA and the number of hours they spend studying.\n",
    "\n",
    "The alternative hypothesis is the statement that there is a difference or an effect between the two groups being compared.\n",
    "Ex: There is a significant relationship between a student's GPA and the number of hours they spend studying.\n",
    "\"\"\""
   ]
  },
  {
   "cell_type": "code",
   "execution_count": null,
   "id": "11b1c467-cbe2-4261-82b2-0a9a213f8b21",
   "metadata": {},
   "outputs": [],
   "source": [
    "#Q7: Write down the steps involved in hypothesis testing.\n",
    "\"\"\"\n",
    "Hypothesis testing is a statistical method used to evaluate whether a given hypothesis about a population is true or false. \n",
    "The following are the steps involved in hypothesis testing:\n",
    "\n",
    "1. State the null hypothesis and alternative hypothesis.\n",
    "\n",
    "2. Determine the level of significance (α): It is the probability of making a type I error, which is rejecting the null hypothesis when it is actually\n",
    "   true. A common level of significance is α = 0.05, which means that we are willing to accept a 5% chance of making a type I error.\n",
    "\n",
    "3. Choose the appropriate test statistic: The choice of test statistic depends on the type of data and the hypothesis being tested. \n",
    "\n",
    "4. Calculate the p-value: A p-value less than the level of significance indicates that the observed result is statistically significant.\n",
    "\n",
    "5. Make a decision: Based on the p-value, we can either reject the null hypothesis or fail to reject it. \n",
    "\n",
    "6. Interpret the results: If we reject the null hypothesis, we can conclude that there is evidence to support the alternative hypothesis. \n",
    "   If we fail to reject the null hypothesis, we do not have sufficient evidence to reject the null hypothesis.\n",
    "\n",
    "7. Draw conclusions and make recommendations: Based on the results of the hypothesis test, we can draw conclusions and make recommendations.\n",
    "\"\"\""
   ]
  },
  {
   "cell_type": "code",
   "execution_count": null,
   "id": "fe03bef7-170f-4950-b5b0-1b59889f1d9b",
   "metadata": {},
   "outputs": [],
   "source": [
    "#Q8. Define p-value and explain its significance in hypothesis testing.\n",
    "\"\"\"\n",
    "A p-value is a statistical measure that helps determine the likelihood of observing a certain result or more extreme results, assuming that the\n",
    "null hypothesis is true.\n",
    "It is significance in hypothesis testing because the p-value provides a quantitative measure of the strength of evidence against the null hypothesis,\n",
    "and helps researchers make decisions about whether to accept or reject the null hypothesis based on the observed data.\n",
    "\"\"\""
   ]
  },
  {
   "cell_type": "code",
   "execution_count": 13,
   "id": "d9d373e9-d614-402b-9024-48670f37ba3e",
   "metadata": {},
   "outputs": [
    {
     "data": {
      "image/png": "[encoded data removed]",
      "text/plain": [
       "<Figure size 640x480 with 1 Axes>"
      ]
     },
     "metadata": {},
     "output_type": "display_data"
    }
   ],
   "source": [
    "#Q9. Generate a Student's t-distribution plot using Python's matplotlib library, with the degrees of freedom parameter set to 10.\n",
    "\n",
    "import matplotlib.pyplot as plt\n",
    "import numpy as np\n",
    "from scipy.stats import t\n",
    "\n",
    "df = 10 \n",
    "x = np.linspace(t.ppf(0.001, df), t.ppf(0.999, df), 100) \n",
    "y = t.pdf(x, df) \n",
    "\n",
    "plt.plot(x, y, 'r-', lw=2, label='t pdf')\n",
    "plt.legend(loc='best', frameon=False)\n",
    "plt.title(\"Student's t-distribution with df=10\")\n",
    "plt.show()\n"
   ]
  },
  {
   "cell_type": "code",
   "execution_count": 14,
   "id": "392e2c66-5dfc-450a-81ea-c21f21178177",
   "metadata": {},
   "outputs": [
    {
     "name": "stdout",
     "output_type": "stream",
     "text": [
      "t-statistic: -5.1916944859137155\n",
      "p-value: 1.1299848842496056e-06\n"
     ]
    }
   ],
   "source": [
    "#Q10. Write a Python program to calculate the two-sample t-test for independent samples, given two random samples of equal size and a null hypothesis \n",
    "#     that the population means are equal.\n",
    "\n",
    "import numpy as np\n",
    "from scipy import stats\n",
    "\n",
    "sample1 = np.random.normal(10, 2, 50)\n",
    "sample2 = np.random.normal(12, 2, 50)\n",
    "\n",
    "t_stat, p_val = stats.ttest_ind(sample1, sample2)\n",
    "\n",
    "print(\"t-statistic:\", t_stat)\n",
    "print(\"p-value:\", p_val)\n"
   ]
  },
  {
   "cell_type": "code",
   "execution_count": null,
   "id": "b7be9114-b404-403d-9485-6fb0a7fb2aac",
   "metadata": {},
   "outputs": [],
   "source": [
    "#Q11: What is Student’s t distribution? When to use the t-Distribution.\n",
    "\"\"\"\n",
    "Student's t distribution is a probability distribution that is used in statistics to calculate confidence intervals and perform hypothesis testing \n",
    "when the sample size is small (typically n < 30) or the population standard deviation is unknown.\n",
    "\n",
    "The t-distribution is similar in shape to the normal distribution, but has heavier tails, meaning it has more probability in the tails than the \n",
    "normal distribution does.\n",
    "\"\"\""
   ]
  },
  {
   "cell_type": "code",
   "execution_count": null,
   "id": "cda85bed-af2c-47aa-adca-5364d30e3e7e",
   "metadata": {},
   "outputs": [],
   "source": [
    "#Q12: What is t-statistic? State the formula for t-statistic.\n",
    "\"\"\"\n",
    "The t-statistic is a measure used in statistics to test the difference between the means of two groups, given that the sample sizes are small or\n",
    "the population standard deviation is unknown. It tells us how much the means of two groups differ in relation to the variation within each group.\n",
    "\n",
    "The formula for the t-statistic is: t = (x̄₁ - x̄₂) / (s_p * sqrt(1/n₁ + 1/n₂))\n",
    "\n",
    "where: x̄₁ and x̄₂ are the sample means of the two groups being compared\n",
    "\"\"\""
   ]
  },
  {
   "cell_type": "code",
   "execution_count": null,
   "id": "d7b1dcfe-d700-4798-b0dd-b62ac153908f",
   "metadata": {},
   "outputs": [],
   "source": [
    "#Q13. A coffee shop owner wants to estimate the average daily revenue for their shop. They take a random sample of 50 days and find the sample mean \n",
    "#     revenue to be $500 with a standard deviation of $50. Estimate the population mean revenue with a 95% confidence interval.\n",
    "\"\"\"\n",
    "n=50\n",
    "x=500\n",
    "sd=50\n",
    "\n",
    "standard error = standard deviation / sqrt(sample size)\n",
    "standard error = 50 / sqrt(50)\n",
    "standard error = 7.07\n",
    "\n",
    "Confidence Interval = sample mean ± z-score * (standard error)\n",
    "Since we want a 95% confidence interval, the corresponding z-score is 1.96 (standard normal distribution table).\n",
    "\n",
    "Confidence Interval = 500 ± 1.96 (7.07)\n",
    "Confidence Interval = 500 ± 13.88\n",
    "\n",
    "Therefore, we can say with 95% confidence that the true population mean revenue falls between $486.12 and $513.88.\n",
    "\"\"\""
   ]
  },
  {
   "cell_type": "code",
   "execution_count": null,
   "id": "1bd89c35-28e6-45d8-9438-ddde596858f5",
   "metadata": {},
   "outputs": [],
   "source": [
    "#Q14. A researcher hypothesizes that a new drug will decrease blood pressure by 10 mmHg. They conduct a clinical trial with 100 patients and find that\n",
    "#     the sample mean decrease in blood pressure is 8 mmHg with a standard deviation of 3 mmHg. Test the hypothesis with a significance level of 0.05.\n",
    "\"\"\"\n",
    "sample mean=8\n",
    "hypothesized mean = 10\n",
    "sanple std=3\n",
    "sample size=100\n",
    "\n",
    "To test the hypothesis, we need to perform a hypothesis test using a t-test since the population standard deviation is unknown.\n",
    "\n",
    "null hypothesis: The drug does not decrease blood pressure by 10 mmHg.\n",
    "alternative hypothesis: The drug decreases blood pressure by 10 mmHg.\n",
    "\n",
    "t = (sample mean - hypothesized mean) / (sample standard deviation / sqrt(sample size))\n",
    "t = (8 - 10) / (3 / sqrt(100))\n",
    "t = -2 / 0.3\n",
    "t = -6.67\n",
    "\n",
    "degrees of freedom (n-1)= 99\n",
    "the critical value for a two-tailed test with a significance level of 0.05 is approximately ±1.984.\n",
    "\n",
    "Since our calculated t-value of -6.67 is less than -1.984, we reject the null hypothesis and conclude that the drug decreases blood pressure \n",
    "significantly at a 5% significance level.\n",
    "\"\"\""
   ]
  },
  {
   "cell_type": "code",
   "execution_count": null,
   "id": "44349267-01ff-4a41-a318-6d7d780e8ec9",
   "metadata": {},
   "outputs": [],
   "source": [
    "#Q15. An electronics company produces a certain type of product with a mean weight of 5 pounds and a standard deviation of 0.5 pounds. A random sample\n",
    "#     of 25 products is taken, and the sample mean weight is found to be 4.8 pounds. Test the hypothesis that the true mean weight of the products is \n",
    "#     less than 5 pounds with a significance level of 0.01.\n",
    "\"\"\"\n",
    "Population mean= 5\n",
    "population std= 0.5\n",
    "sample size= 25\n",
    "sample mean= 4.8\n",
    "\n",
    "To test the hypothesis, we need to perform a hypothesis test using a t-test since the sample size is less than 30.\n",
    "\n",
    "The null hypothesis is that the true mean weight of the products is equal to 5 pounds\n",
    "The alternative hypothesis is that the true mean weight of the products is less than 5 pounds\n",
    "\n",
    "t = (sample mean - poputation mean) / (sample standard deviation / sqrt(sample size))\n",
    "t = (4.8 - 5) / (0.5 / sqrt(25))\n",
    "t = -0.2 / 0.1\n",
    "t = -2.0\n",
    "\n",
    "degree of freedom = 25-1 =24\n",
    "\n",
    "Using a t-distribution table with 24 degrees of freedom and a significance level of 0.01, we find the critical value to be -2.492.\n",
    "\n",
    "Since our calculated t-value of -2.0 is greater than the critical value of -2.492, we fail to reject the null hypothesis. \n",
    "There is not enough evidence to support the claim that the true mean weight of the products is less than 5 pounds at a significance level of 0.01.\n",
    "\"\"\""
   ]
  },
  {
   "cell_type": "code",
   "execution_count": 1,
   "id": "dd24ddb6-6b73-4870-befa-51694dc8f67f",
   "metadata": {},
   "outputs": [],
   "source": [
    "#Q16. Two groups of students are given different study materials to prepare for a test. The first group (n1 = 30) has a mean score of 80 with a\n",
    "#     standard deviation of 10, and the second group (n2 = 40) has a mean score of 75 with a standard deviation of 8. Test the hypothesis that the \n",
    "#     population means for the two groups are equal with a significance level of 0.01.\n",
    "\"\"\"\n",
    "n1=30      n2=40\n",
    "u1=80      u2=75\n",
    "Sd1=10     Sd2=8\n",
    "\n",
    "To test the hypothesis that the population means for the two groups are equal, we can use a two-sample t-test.\n",
    "\n",
    "The null hypothesis: u1 = u2\n",
    "The alternative hypothesis: u1 ≠ u2\n",
    "\n",
    "Sp² is the pooled variance, calculated as: \n",
    "Sp² = ((n1 - 1) * S1² + (n2 - 1) * S2²) / (n1 + n2 - 2)   (where Sd1 and Sd2 are the sample standard deviations)\n",
    "\n",
    "Sp² = ((30-1)*10² + (40-1)*8²)/(30+40-2)\n",
    "    = 85.263\n",
    "    \n",
    "We can calculate the t-statistic using the following formula:\n",
    "\n",
    "t = (u1 - u2) / sqrt(Sp² * (1/n1 + 1/n2))\n",
    "t = (80-75) / sqrt(85.263 * (1/30 + 1/40)) \n",
    "  = 2.22\n",
    "\n",
    "degrees of freedom = 30 + 40 - 2 = 68\n",
    "\n",
    "Using a t-distribution table , we find that the p-value for a two-tailed test with 68 degrees of freedom and a t-value of 2.22 \n",
    "is approximately 0.0306.\n",
    "\n",
    "Since the p-value (0.0306) is less than the significance level (0.01), we reject the null hypothesis and conclude that there is evidence of a\n",
    "difference in population means at the 0.01 level of significance.\n",
    "\"\"\""
   ]
  },
  {
   "cell_type": "code",
   "execution_count": null,
   "id": "6c482cd1-5828-4691-8184-5fd4e15ceb2f",
   "metadata": {},
   "outputs": [],
   "source": [
    "#Q17. A marketing company wants to estimate the average number of ads watched by viewers during a TV program. They take a random sample of 50 viewers\n",
    "#     and find that the sample mean is 4 with a standard deviation of 1.5. Estimate the population mean with a 99% confidence interval.\n",
    "\"\"\"\n",
    "n=50\n",
    "u=4\n",
    "Sd=1.5\n",
    "\n",
    "standard error = standard deviation / sqrt(sample size)\n",
    "               = 1.5/sqrt(50)\n",
    "               = 0.21\n",
    "               \n",
    "Confidence Interval = sample mean ± z-score * (standard error)\n",
    "Since we want a 99% confidence interval, the corresponding z-score is 2.57 (standard normal distribution table).\n",
    "\n",
    "Confidence Interval = 4 ± 2.57*(0.21)\n",
    "Confidence Interval = 4 ± 0.5397\n",
    "\n",
    "Therefore, with 99% confidence that the true population mean of ads watched by viewers during a TV program falls between 3.4603 and 4.5397.\n",
    "\"\"\""
   ]
  }
 ],
 "metadata": {
  "kernelspec": {
   "display_name": "Python 3 (ipykernel)",
   "language": "python",
   "name": "python3"
  },
  "language_info": {
   "codemirror_mode": {
    "name": "ipython",
    "version": 3
   },
   "file_extension": ".py",
   "mimetype": "text/x-python",
   "name": "python",
   "nbconvert_exporter": "python",
   "pygments_lexer": "ipython3",
   "version": "3.10.8"
  }
 },
 "nbformat": 4,
 "nbformat_minor": 5
}
