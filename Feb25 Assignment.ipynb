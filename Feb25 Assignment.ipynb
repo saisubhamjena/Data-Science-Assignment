{
 "cells": [
  {
   "cell_type": "code",
   "execution_count": 10,
   "id": "b1e0428e-94e2-4211-80c2-4f1f26acd325",
   "metadata": {},
   "outputs": [
    {
     "data": {
      "text/html": [
       "<div>\n",
       "<style scoped>\n",
       "    .dataframe tbody tr th:only-of-type {\n",
       "        vertical-align: middle;\n",
       "    }\n",
       "\n",
       "    .dataframe tbody tr th {\n",
       "        vertical-align: top;\n",
       "    }\n",
       "\n",
       "    .dataframe thead th {\n",
       "        text-align: right;\n",
       "    }\n",
       "</style>\n",
       "<table border=\"1\" class=\"dataframe\">\n",
       "  <thead>\n",
       "    <tr style=\"text-align: right;\">\n",
       "      <th></th>\n",
       "      <th>course_name</th>\n",
       "      <th>duration</th>\n",
       "    </tr>\n",
       "  </thead>\n",
       "  <tbody>\n",
       "    <tr>\n",
       "      <th>1</th>\n",
       "      <td>Machine Learning</td>\n",
       "      <td>3</td>\n",
       "    </tr>\n",
       "  </tbody>\n",
       "</table>\n",
       "</div>"
      ],
      "text/plain": [
       "        course_name  duration\n",
       "1  Machine Learning         3"
      ]
     },
     "execution_count": 10,
     "metadata": {},
     "output_type": "execute_result"
    }
   ],
   "source": [
    "#Consider following code to answer further questions:\n",
    "import pandas as pd\n",
    "course_name = ['Data Science', 'Machine Learning', 'Big Data', 'Data Engineer']\n",
    "duration = [2,3,6,4]\n",
    "df = pd.DataFrame(data = {'course_name' : course_name, 'duration' : duration})\n",
    "\n",
    "#Q1. Write a code to print the data present in the second row of the dataframe, df.\n",
    "\n",
    "df.iloc[1:2,0:2]"
   ]
  },
  {
   "cell_type": "code",
   "execution_count": null,
   "id": "bf10ae0c-bc97-4bf9-8b5f-ff5a7f42a938",
   "metadata": {},
   "outputs": [],
   "source": [
    "#Q2. What is the difference between the functions loc and iloc in pandas.DataFrame?\n",
    "\"\"\"\n",
    "loc: it takes only named location.\n",
    "    Ex: df.loc(0:2,['course_name','duration'])\n",
    "    \n",
    "iloc: its take only integer location.\n",
    "    Ex: df.iloc[1:2,0:2]\n",
    "\"\"\""
   ]
  },
  {
   "cell_type": "code",
   "execution_count": 20,
   "id": "3f92d587-83e3-46e6-b746-340f27d61772",
   "metadata": {},
   "outputs": [
    {
     "name": "stdout",
     "output_type": "stream",
     "text": [
      "        course_name  duration\n",
      "3     Data Engineer         4\n",
      "0      Data Science         2\n",
      "1  Machine Learning         3\n",
      "2          Big Data         6\n",
      "course_name    Big Data\n",
      "duration              6\n",
      "Name: 2, dtype: object\n",
      "course_name    Machine Learning\n",
      "duration                      3\n",
      "Name: 1, dtype: object\n"
     ]
    }
   ],
   "source": [
    "#Q3. Reindex the given dataframe using a variable, reindex = [3,0,1,2] and store it in the variable,new_df then find the output for both new_df.loc[2]\n",
    "#    and new_df.iloc[2]. Did you observe any difference in both the outputs? If so then explain it.\n",
    "\n",
    "new_df=df.reindex([3,0,1,2])\n",
    "print(new_df)\n",
    "\n",
    "print(new_df.loc[2])\n",
    "print(new_df.iloc[2])\n",
    "\"\"\"\n",
    "Yes there is a difference in both the outputs.\n",
    "As, loc takes only named location so, in loc[2] row of index name 2 is returned as output.\n",
    "As, iloc take only integer location so, in iloc[2] row of index number is returned as output.\n",
    "\"\"\""
   ]
  },
  {
   "cell_type": "code",
   "execution_count": 37,
   "id": "ce6579e4-aff5-47dc-bd9c-0a7135b1e482",
   "metadata": {},
   "outputs": [
    {
     "name": "stdout",
     "output_type": "stream",
     "text": [
      "mean of each and every column present in the dataframe\n",
      "column_1    0.357582\n",
      "column_2    0.590278\n",
      "column_3    0.610360\n",
      "column_4    0.436788\n",
      "column_5    0.411067\n",
      "column_6    0.726313\n",
      "dtype: float64\n",
      "standard deviation of column, ‘column_2’\n",
      "0.312358886912097\n"
     ]
    }
   ],
   "source": [
    "# Consider the below code to answer further questions:\n",
    "import pandas as pd\n",
    "import numpy as np\n",
    "columns = ['column_1', 'column_2', 'column_3', 'column_4', 'column_5', 'column_6']\n",
    "indices = [1,2,3,4,5,6]\n",
    "\n",
    "df1 = pd.DataFrame(np.random.rand(6,6), columns = columns, index = indices)\n",
    "\n",
    "\n",
    "#Q4. Write a code to find the following statistical measurements for the above dataframe df1:\n",
    "#   (i) mean of each and every column present in the dataframe.\n",
    "#   (ii) standard deviation of column, ‘column_2’\n",
    "\n",
    "print(\"mean of each and every column present in the dataframe\")\n",
    "print(df1.mean())\n",
    "\n",
    "print(\"standard deviation of column, ‘column_2’\")\n",
    "print(df1['column_2'].std())"
   ]
  },
  {
   "cell_type": "code",
   "execution_count": 47,
   "id": "404af9f7-38a2-4b4b-963e-1cfdd1d0091d",
   "metadata": {},
   "outputs": [],
   "source": [
    "#Q5. Replace the data present in the second row of column, ‘column_2’ by a string variable then find the mean of column, column_2.\n",
    "# If you are getting errors in executing it then explain why. [Hint: To replace the data use df1.loc[] and equate this to string data of your choice.]\n",
    "\n",
    "df1.loc[0:6,'column_2']=[\"a\",\"b\",\"c\",\"d\",\"e\",\"f\"]\n",
    "\n",
    "df1.loc[0:6,'column_2'].mean()\n",
    "\n",
    "\"\"\"\n",
    "Here we would get an error because mean is calculated over numerical data not on characters.\n",
    "\"\"\""
   ]
  },
  {
   "cell_type": "code",
   "execution_count": null,
   "id": "fc30a1ad-5f6f-4c20-805a-ee7b1304b0cb",
   "metadata": {},
   "outputs": [],
   "source": [
    "#Q6. What do you understand about the windows function in pandas and list the types of windows functions?\n",
    "\"\"\"\n",
    "In pandas, the window function is a way of performing a rolling computation on a time series or other ordered data. It allows you to define a window \n",
    "of a certain size and apply a function to the data within that window.\n",
    "\n",
    "There are several types of window functions that can be used in pandas, including:\n",
    "\n",
    "1. Rolling Window Functions: These functions apply a function to a sliding window of fixed size along a time series or other ordered data.\n",
    "   Examples include rolling_mean(), rolling_sum(), and rolling_std().\n",
    "   \n",
    "2. Expanding Window Functions: These functions apply a function to all of the data up to a given point in time. \n",
    "   Examples include expanding_mean(), expanding_sum(), and expanding_std().\n",
    "   \n",
    "3. Exponential Weighted Moving Average (EWMA) Window Functions: These functions apply a weighted average to the data using an exponentially decreasing\n",
    "   weight for each observation. Examples include ewma() and ewmstd().\n",
    "\n",
    "4. rolling Window Aggregations: These functions aggregate the data within a rolling window without returning a time series. \n",
    "   Examples include rolling_max(), rolling_min(), and rolling_quantile().\n",
    "\n",
    "5. Time-based Window Functions: These functions allow you to define windows based on time intervals, rather than a fixed number of observations. \n",
    "   Examples include resample() and rolling().resample().\n",
    "\"\"\""
   ]
  },
  {
   "cell_type": "code",
   "execution_count": 54,
   "id": "b0d7df52-4e70-494f-8c05-1c04357fbc89",
   "metadata": {},
   "outputs": [
    {
     "name": "stdout",
     "output_type": "stream",
     "text": [
      "Current month and year: March 2023\n"
     ]
    },
    {
     "name": "stderr",
     "output_type": "stream",
     "text": [
      "/tmp/ipykernel_1254/1378645879.py:5: FutureWarning: The pandas.datetime class is deprecated and will be removed from pandas in a future version. Import from datetime module instead.\n",
      "  now = pd.datetime.now()\n"
     ]
    }
   ],
   "source": [
    "#Q7. Write a code to print only the current month and year at the time of answering this question. [Hint: Use pandas.datetime function]\n",
    "\n",
    "import pandas as pd\n",
    "\n",
    "now = pd.datetime.now()\n",
    "print(\"Current month and year:\", now.strftime(\"%B %Y\")) \n"
   ]
  },
  {
   "cell_type": "code",
   "execution_count": 60,
   "id": "4ecdd7e0-8ce7-4bbc-97aa-5a449f560af3",
   "metadata": {},
   "outputs": [
    {
     "data": {
      "text/plain": [
       "Timedelta('-60 days +00:00:00')"
      ]
     },
     "execution_count": 60,
     "metadata": {},
     "output_type": "execute_result"
    }
   ],
   "source": [
    "#Q8. Write a Python program that takes in two dates as input (in the format YYYY-MM-DD) and calculates the difference between them in days, hours, and\n",
    "#    minutes using Pandas time delta. The program should prompt the user to enter the dates and display the result.\n",
    "\n",
    "import pandas as pd\n",
    "\n",
    "date1=pd.to_datetime('2023-03-29')\n",
    "date2=pd.to_datetime('2023-01-28')\n",
    "\n",
    "dif=date2-date1\n",
    "pd.Timedelta(dif)"
   ]
  },
  {
   "cell_type": "code",
   "execution_count": 68,
   "id": "13c575c6-7878-48a9-8587-f975af953472",
   "metadata": {},
   "outputs": [
    {
     "name": "stdin",
     "output_type": "stream",
     "text": [
      "Enter file path:  taxonomy.csv\n",
      "Enter column name to convert to category:  parent_name\n",
      "Enter category order, separated by commas:  Decending\n"
     ]
    },
    {
     "name": "stdout",
     "output_type": "stream",
     "text": [
      "    taxonomy_id                          name parent_id parent_name\n",
      "0           101                     Emergency       NaN         NaN\n",
      "1        101-01             Disaster Response       101         NaN\n",
      "2        101-02                Emergency Cash       101         NaN\n",
      "3     101-02-01             Help Pay for Food    101-02         NaN\n",
      "4     101-02-02       Help Pay for Healthcare    101-02         NaN\n",
      "..          ...                           ...       ...         ...\n",
      "285   111-01-07              Workplace Rights    111-01         NaN\n",
      "286      111-02                     Mediation       111         NaN\n",
      "287      111-03                        Notary       111         NaN\n",
      "288      111-04                Representation       111         NaN\n",
      "289      111-05  Translation & Interpretation       111         NaN\n",
      "\n",
      "[290 rows x 4 columns]\n"
     ]
    }
   ],
   "source": [
    "#Q9. Write a Python program that reads a CSV file containing categorical data and converts a specified column to a categorical data type. The program \n",
    "#    should prompt the user to enter the file path, column name, and category order, and then display the sorted data.\n",
    "\n",
    "import pandas as pd\n",
    "\n",
    "file_path = input(\"Enter file path: \")\n",
    "column_name = input(\"Enter column name to convert to category: \")\n",
    "category_order = input(\"Enter category order, separated by commas: \").split(',')\n",
    "\n",
    "df = pd.read_csv(file_path)\n",
    "df[column_name] = pd.Categorical(df[column_name], categories=category_order, ordered=True)\n",
    "df = df.sort_values(by=column_name)\n",
    "\n",
    "print(df)\n"
   ]
  },
  {
   "cell_type": "code",
   "execution_count": 72,
   "id": "ddf41754-da7f-4041-bd6d-ae7ec2713856",
   "metadata": {},
   "outputs": [],
   "source": [
    "#Q10. WrDataFramea Python program that reads a CSV file containing sales data for different products and visualizes the data using a stacked bar chart\n",
    "#     to show the sales of each product category over time. The program should prompt the user to enter the file path and display the chart.\n",
    "\n",
    "import pandas as pd\n",
    "\n",
    "file_path = input(\"Enter file path: \")\n",
    "\n",
    "df = pd.read_csv(file_path)\n",
    "\n",
    "grouped_data = df.groupby(['Product Category', 'Year'])['Sales'].sum().unstack()\n",
    "\n",
    "grouped_data.plot(kind='bar', stacked=True)"
   ]
  },
  {
   "cell_type": "code",
   "execution_count": 84,
   "id": "62a0ce69-33be-4d7a-b585-e6f72665ebf3",
   "metadata": {},
   "outputs": [
    {
     "name": "stdin",
     "output_type": "stream",
     "text": [
      "Enter file path:  Students_data.csv\n"
     ]
    },
    {
     "name": "stdout",
     "output_type": "stream",
     "text": [
      "  Statistics  Value\n",
      "0       Mean   83.5\n",
      "1     Median   85.0\n",
      "2       Mode   85.0\n"
     ]
    }
   ],
   "source": [
    "#Q11. You are given a CSV file containing student data that includes the student ID and their test score. Write a Python program that reads the CSV\n",
    "#     file, calculates the mean, median, and mode of the test scores, and displays the results in a table.\n",
    "#    The program should do the followingM\n",
    "#     *Prompt the user to enter the file path of the CSV file containing the student dataR\n",
    "#     *Read the CSV file into a Pandas DataFrameR\n",
    "#     *Calculate the mean, median, and mode of the test scores using Pandas toolsR\n",
    "#     *Display the mean, median, and mode in a table.\n",
    "#    Assume the CSV file contains the following columnsM\n",
    "#     *Student ID: The ID of the studentR\n",
    "#     *Test Score: The score of the student's test.\n",
    "\n",
    "import pandas as pd\n",
    "data=pd.DataFrame({'Student ID':[1,2,3,4,5,6,7,8,9,10],'Test Score':[85,90,80,75,85,82,78,85,90,85]})\n",
    "data.to_csv('Students_data.csv',index=False)\n",
    "\n",
    "file_path = input(\"Enter file path: \")\n",
    "\n",
    "df = pd.read_csv(file_path)\n",
    "\n",
    "mean=df['Test Score'].mean()\n",
    "median=df['Test Score'].median()\n",
    "mode=df['Test Score'].mode()[0]\n",
    "\n",
    "df_table=pd.DataFrame({'Statistics':['Mean','Median','Mode'],'Value':[mean,median,mode]})\n",
    "\n",
    "df_table)"
   ]
  },
  {
   "cell_type": "code",
   "execution_count": 74,
   "id": "cb182e3a-5464-4ae7-a631-6c60a8e8a8dc",
   "metadata": {},
   "outputs": [],
   "source": []
  },
  {
   "cell_type": "code",
   "execution_count": 76,
   "id": "11f24695-b25e-4df1-930a-2ba6c23f937e",
   "metadata": {},
   "outputs": [],
   "source": []
  },
  {
   "cell_type": "code",
   "execution_count": null,
   "id": "2ce71399-6c5a-414b-a598-179762257bec",
   "metadata": {},
   "outputs": [],
   "source": []
  }
 ],
 "metadata": {
  "kernelspec": {
   "display_name": "Python 3 (ipykernel)",
   "language": "python",
   "name": "python3"
  },
  "language_info": {
   "codemirror_mode": {
    "name": "ipython",
    "version": 3
   },
   "file_extension": ".py",
   "mimetype": "text/x-python",
   "name": "python",
   "nbconvert_exporter": "python",
   "pygments_lexer": "ipython3",
   "version": "3.10.8"
  }
 },
 "nbformat": 4,
 "nbformat_minor": 5
}
