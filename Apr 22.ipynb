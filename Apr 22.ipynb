{
 "cells": [
  {
   "cell_type": "code",
   "execution_count": 10,
   "id": "b0867e54-71af-4a94-89ba-add78b39684d",
   "metadata": {},
   "outputs": [
    {
     "data": {
      "text/plain": [
       "0.98"
      ]
     },
     "execution_count": 10,
     "metadata": {},
     "output_type": "execute_result"
    }
   ],
   "source": [
    "#Q1. Write a Python code to implement the KNN classifier algorithm on load_iris dataset in sklearn.datasets.\n",
    "\n",
    "from sklearn.datasets import load_iris \n",
    "df=load_iris()\n",
    "\n",
    "x=df.data\n",
    "y=df.target\n",
    "\n",
    "from sklearn.model_selection import train_test_split\n",
    "x_train,x_test,y_train,y_test=train_test_split(x,y,test_size=0.33,random_state=42)\n",
    "\n",
    "from sklearn.neighbors import KNeighborsClassifier\n",
    "knc=KNeighborsClassifier(n_neighbors=5,algorithm='auto')\n",
    "knc.fit(x_train,y_train)\n",
    "\n",
    "y_pred=knc.predict(x_test)\n",
    "\n",
    "from sklearn.metrics import accuracy_score\n",
    "\n",
    "accuracy_score(y_pred,y_test)"
   ]
  },
  {
   "cell_type": "code",
   "execution_count": 17,
   "id": "9dd5da62-006c-43f1-99d8-3d0741e42ec7",
   "metadata": {},
   "outputs": [],
   "source": [
    "#Q2. Write a Python code to implement the KNN regressor algorithm on load_boston dataset in sklearn.datasets.\n",
    "\n",
    "from sklearn.datasets import load_boston\n",
    "df=load_boston()\n",
    "\n",
    "x=df.data\n",
    "y=df.target\n",
    "\n",
    "from sklearn.model_selection import train_test_split\n",
    "x_train,x_test,y_train,y_test=train_test_split(x,y,test_size=0.33,random_state=42)\n",
    "\n",
    "from sklearn.neighbors import KNeighborsRegressor\n",
    "knr=KNeighborsRegressor(n_neighbors=5,algorithm='auto')\n",
    "knr.fit(x_train,y_train)\n",
    "\n",
    "y_pred=knr.predict(x_test)\n",
    "\n",
    "from sklearn.metrics import accuracy_score\n",
    "\n",
    "accuracy_score(y_pred,y_test)"
   ]
  },
  {
   "cell_type": "code",
   "execution_count": 18,
   "id": "24c0d910-7593-43ef-8063-0f17ea356319",
   "metadata": {},
   "outputs": [
    {
     "name": "stdout",
     "output_type": "stream",
     "text": [
      "Optimal K value is 1  with Accuracy: 1.0\n"
     ]
    }
   ],
   "source": [
    "#Q3. Write a Python code snippet to find the optimal value of K for the KNN classifier algorithm using cross-validation on load_iris dataset in \n",
    "#    sklearn.datasets.\n",
    "\n",
    "from sklearn.neighbors import KNeighborsClassifier\n",
    "from sklearn.model_selection import cross_val_score\n",
    "k_values=list(range(1,11))\n",
    "cv_scores=[]\n",
    "\n",
    "for k in k_values:\n",
    "    knn=KNeighborsClassifier(n_neighbors=k)\n",
    "    scores = cross_val_score(knn, x_test, y_test, cv=5, scoring='accuracy')\n",
    "    cv_scores.append(scores.mean())\n",
    "    \n",
    "optimal_k = k_values[cv_scores.index(max(cv_scores))]\n",
    "\n",
    "print(\"Optimal K value is\", optimal_k ,' with Accuracy:',round(max(cv_scores),2))"
   ]
  },
  {
   "cell_type": "code",
   "execution_count": 21,
   "id": "45056cc4-4ba7-4e14-ad02-b1a336cf725b",
   "metadata": {},
   "outputs": [],
   "source": [
    "#Q4. Implement the KNN regressor algorithm with feature scaling on load_boston dataset in sklearn.datasets.\n",
    "\n",
    "from sklearn.datasets import load_boston\n",
    "from sklearn.preprocessing import StandardScaler\n",
    "from sklearn.neighbors import KNeighborsRegressor\n",
    "from sklearn.model_selection import train_test_split\n",
    "from sklearn.metrics import mean_squared_error\n",
    "\n",
    "boston = load_boston()\n",
    "X = boston.data\n",
    "y = boston.target\n",
    "\n",
    "X_train, X_test, y_train, y_test = train_test_split(X, y, test_size=0.2, random_state=42)\n",
    "\n",
    "scaler = StandardScaler()\n",
    "X_train_scaled = scaler.fit_transform(X_train)\n",
    "X_test_scaled = scaler.transform(X_test)\n",
    "\n",
    "knn = KNeighborsRegressor(n_neighbors=5)\n",
    "knn.fit(X_train_scaled, y_train)\n",
    "\n",
    "y_pred = knn.predict(X_test_scaled)\n",
    "\n",
    "mse = mean_squared_error(y_test, y_pred)\n",
    "print(\"Mean Squared Error:\", mse)"
   ]
  },
  {
   "cell_type": "code",
   "execution_count": 19,
   "id": "1c392825-1001-44a9-a2aa-833bef26b73c",
   "metadata": {},
   "outputs": [
    {
     "name": "stdout",
     "output_type": "stream",
     "text": [
      "1.0\n"
     ]
    }
   ],
   "source": [
    "#Q5. Write a Python code snippet to implement the KNN classifier algorithm with weighted voting on load_iris dataset in sklearn.datasets.\n",
    "\n",
    "knw = KNeighborsClassifier(n_neighbors=5, weights='distance')\n",
    "knw.fit(x_test, y_test)\n",
    "\n",
    "print(accuracy_score(y_test,knw.predict(x_test)))"
   ]
  },
  {
   "cell_type": "code",
   "execution_count": null,
   "id": "a21912ba-3caa-4bb3-ad13-4b4374f93a8d",
   "metadata": {},
   "outputs": [],
   "source": [
    "#Q6. Implement a function to standardise the features before applying KNN classifier.\n",
    "\n",
    "from sklearn.preprocessing import StandardScaler\n",
    "\n",
    "def scalar(x_train,x_test):\n",
    "    scaler = StandardScaler()\n",
    "    x_train_std = scaler.fit_transform(x_train)\n",
    "    x_test_std = scaler.transform(x_test)"
   ]
  },
  {
   "cell_type": "code",
   "execution_count": 9,
   "id": "1fb884d5-6eff-47a3-a8da-422b841c89b4",
   "metadata": {},
   "outputs": [
    {
     "name": "stdin",
     "output_type": "stream",
     "text": [
      "X1:  2\n",
      "Y1:  3\n",
      "X2:  4\n",
      "Y2:  5\n"
     ]
    },
    {
     "name": "stdout",
     "output_type": "stream",
     "text": [
      "Euclidean distance between two points is: 2.8284271247461903\n"
     ]
    }
   ],
   "source": [
    "#Q7. Write a Python function to calculate the euclidean distance between two points.\n",
    "\n",
    "x1=int(input('X1: '))\n",
    "y1=int(input('Y1: '))\n",
    "x2=int(input('X2: '))\n",
    "y2=int(input('Y2: '))\n",
    "\n",
    "def euc(x1,y1,x2,y2):\n",
    "    distance=((x2-x1)**2 +(y2-y1)**2)**0.5\n",
    "    return distance\n",
    "\n",
    "print('Euclidean distance between two points is:',euc(x1,y1,x2,y2))"
   ]
  },
  {
   "cell_type": "code",
   "execution_count": 8,
   "id": "77203b35-7d7a-4d43-bda9-38a4f8b67481",
   "metadata": {},
   "outputs": [
    {
     "name": "stdin",
     "output_type": "stream",
     "text": [
      "X1:  2\n",
      "Y1:  3\n",
      "X2:  4\n",
      "Y2:  5\n"
     ]
    },
    {
     "name": "stdout",
     "output_type": "stream",
     "text": [
      "manhattan distance between two points is: 4\n"
     ]
    }
   ],
   "source": [
    "# Q8. Write a Python function to calculate the manhattan distance between two points.\n",
    "\n",
    "x1=int(input('X1: '))\n",
    "y1=int(input('Y1: '))\n",
    "x2=int(input('X2: '))\n",
    "y2=int(input('Y2: '))\n",
    "\n",
    "\n",
    "def man(x1,y1,x2,y2):\n",
    "    distance= abs(x2-x1) +abs(y2-y1)\n",
    "    return distance\n",
    "\n",
    "print('Manhattan distance between two points is:',man(x1,y1,x2,y2))"
   ]
  },
  {
   "cell_type": "code",
   "execution_count": null,
   "id": "2c730f0b-05d3-426e-a24a-a2dab398b895",
   "metadata": {},
   "outputs": [],
   "source": []
  }
 ],
 "metadata": {
  "kernelspec": {
   "display_name": "Python 3 (ipykernel)",
   "language": "python",
   "name": "python3"
  },
  "language_info": {
   "codemirror_mode": {
    "name": "ipython",
    "version": 3
   },
   "file_extension": ".py",
   "mimetype": "text/x-python",
   "name": "python",
   "nbconvert_exporter": "python",
   "pygments_lexer": "ipython3",
   "version": "3.10.8"
  }
 },
 "nbformat": 4,
 "nbformat_minor": 5
}
